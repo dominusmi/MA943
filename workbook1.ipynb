{
 "cells": [
  {
   "cell_type": "markdown",
   "metadata": {},
   "source": [
    "# MA943 - Numerical Methods"
   ]
  },
  {
   "cell_type": "markdown",
   "metadata": {},
   "source": [
    "## Question 1: Precision of floating point arithmetic\n",
    "\n",
    "Consider the recursion relation\n",
    "\n",
    "$a_{n+1} = 2\\, a_n - \\frac{8}{9}\\, a_{n-1}$\n",
    "\n",
    "with the initial conditions $a_1=1$ and $a_2=\\frac{2}{3}$. \n",
    "\n",
    "1. Calculate the first 80 terms in this sequence using single precision floating point arithmetic (Float32 in Julia). Plot the resulting sequence on a lin-log plot.\n",
    "\n",
    "2. Repeat the calculation using double precision floating point arithmetic (Float64 in Julia) and add the results to to your plot.\n",
    "\n",
    "3. Find the **general** solution of the recursion relation analytically (it should contain two arbitrary constants). Hint: start from the ansatz $a_n = x^n$ and find the the allowed values of $x$.\n",
    "\n",
    "4. Find the solution that satisfies the initial conditions $a_1=1$ and $a_2=\\frac{2}{3}$. \n",
    "\n",
    "5. Find the solution that satisfies the perturbed initial conditions $a_1=1$ and $a_2=\\frac{2}{3}+\\epsilon$. Use the answer to explain your numerical results.\n",
    "\n",
    "6. Julia supports arbitrary precision floating point arithmetic using the BigFloat type (see https://docs.julialang.org/en/latest/manual/integers-and-floating-point-numbers/#Arbitrary-Precision-Arithmetic-1). Try to reproduce the exact solution for the first 80 terms in the sequence using 128 bit precision and show the results on your plot."
   ]
  },
  {
   "cell_type": "code",
   "execution_count": 91,
   "metadata": {},
   "outputs": [
    {
     "name": "stderr",
     "output_type": "stream",
     "text": [
      "WARNING: Method definition recursion64(Float64, Float64) in module Main at In[70]:4 overwritten at In[91]:4.\n",
      "WARNING: Method definition recursion32(Float32, Float32) in module Main at In[70]:5 overwritten at In[91]:5.\n",
      "WARNING: Method definition plot_true() in module Main at In[70]:7 overwritten at In[91]:9.\n"
     ]
    },
    {
     "data": {
      "text/plain": [
       "plot_true (generic function with 1 method)"
      ]
     },
     "execution_count": 91,
     "metadata": {},
     "output_type": "execute_result"
    }
   ],
   "source": [
    "using Plots\n",
    "Plots.plotly()\n",
    "\n",
    "recursion64(a_n0::Float64, a_n1::Float64) = Float64(2*a_n0-8/9*a_n1);\n",
    "recursion32(a_n0::Float32, a_n1::Float32) = Float32(2*a_n0-8/9*a_n1);\n",
    "recursionBig(a_n0::BigFloat, a_n1::BigFloat) = BigFloat(2*a_n0-8/9*a_n1);\n",
    "\n",
    "function plot_true()\n",
    "    x = 1:80\n",
    "    y = 3/2*(2/3).^x\n",
    "    \n",
    "    Plots.plot(x,y, label=\"True Function\", color=\"red\", style=\"dot\")\n",
    "end\n"
   ]
  },
  {
   "cell_type": "code",
   "execution_count": 41,
   "metadata": {},
   "outputs": [
    {
     "data": {
      "text/html": [
       "<script src=\"/home/edoardo/.julia/v0.5/Plots/src/backends/../../deps/plotly-latest.min.js\"></script>    <div id=\"b6a91c62-cabb-4196-a3cd-8057f62b54c9\" style=\"width:600px;height:400px;\"></div>\n",
       "    <script>\n",
       "    PLOT = document.getElementById('b6a91c62-cabb-4196-a3cd-8057f62b54c9');\n",
       "    Plotly.plot(PLOT, [{\"yaxis\":\"y\",\"y\":[1.0,0.6666666865348816,0.444444477558136,0.2962963581085205,0.19753095507621765,0.13168737292289734,0.08779167383909225,0.058527905493974686,0.039018768817186356,0.026012733578681946,0.017342116683721542,0.0115618035197258,0.007708392105996609,0.005139625631272793,0.003427347168326378,0.0022861382458359003,0.00152574572712183,0.0010193685302510858,0.0006825186428613961,0.00045893192873336375,0.0003111806290689856,0.0002144217723980546,0.0001522385427961126,0.00011387995618861169,9.243676322512329e-5,8.364689711015671e-5,8.512778003932908e-5,9.590276022208855e-5,0.00011613638343987986,0.00014702587213832885,0.0001908194099087268,0.0002509491459932178,0.0003322810516692698,0.0004414962022565305,0.0005876314826309681,0.0007828219095245004,0.0010433046845719218,0.001390767632983625,0.001854153349995613,0.0024720688816159964,0.003296001348644495,0.004394608084112406,0.005859437398612499,0.007812556810677052,0.010416724719107151,0.013888954184949398,0.0185185968875885,0.02469145692884922,0.032921940088272095,0.043895918875932693,0.05852789059281349,0.07803718745708466,0.10404958575963974,0.13873277604579926,0.18497702479362488,0.2466360330581665,0.3288480341434479,0.43846404552459717,0.5846187472343445,0.779491662979126,1.0393222570419312,1.3857630491256714,1.8476841449737549,2.463578939437866,3.2847719192504883,4.379695892333984,5.83959436416626,7.786125659942627,10.381501197814941,13.842001914978027,18.456003189086914,24.60800552368164,32.81067657470703,43.7475700378418,58.33009338378906,77.7734603881836,103.69795227050781,138.26394653320312,184.3519287109375,245.8025665283203],\"showlegend\":true,\"name\":\"y1\",\"type\":\"scatter\",\"xaxis\":\"x\",\"line\":{\"width\":1,\"dash\":\"solid\",\"color\":\"rgba(0, 154, 250, 1.000)\",\"shape\":\"linear\"},\"colorbar\":{\"title\":\"\"},\"x\":[1,2,3,4,5,6,7,8,9,10,11,12,13,14,15,16,17,18,19,20,21,22,23,24,25,26,27,28,29,30,31,32,33,34,35,36,37,38,39,40,41,42,43,44,45,46,47,48,49,50,51,52,53,54,55,56,57,58,59,60,61,62,63,64,65,66,67,68,69,70,71,72,73,74,75,76,77,78,79,80],\"mode\":\"lines\"}], {\"yaxis\":{\"type\":\"-\",\"titlefont\":{\"size\":15,\"color\":\"rgba(0, 0, 0, 1.000)\",\"family\":\"sans-serif\"},\"title\":\"\",\"tickfont\":{\"size\":11,\"color\":\"rgba(0, 0, 0, 1.000)\",\"family\":\"sans-serif\"},\"ticks\":\"inside\",\"tickmode\":\"array\",\"showgrid\":true,\"tickvals\":[30.0,60.0,90.0,120.0,150.0,180.0,210.0,240.0],\"domain\":[0.03762029746281716,0.9901574803149606],\"ticktext\":[\"30\",\"60\",\"90\",\"120\",\"150\",\"180\",\"210\",\"240\"],\"tickangle\":0,\"zeroline\":false,\"linecolor\":\"rgba(0, 0, 0, 1.000)\",\"tickcolor\":\"rgba(0, 0, 0, 1.000)\",\"anchor\":\"x\"},\"annotations\":[],\"width\":600,\"plot_bgcolor\":\"rgba(255, 255, 255, 1.000)\",\"showlegend\":true,\"legend\":{\"bgcolor\":\"rgba(255, 255, 255, 1.000)\",\"y\":1.0,\"font\":{\"size\":11,\"color\":\"rgba(0, 0, 0, 1.000)\",\"family\":\"sans-serif\"},\"bordercolor\":\"rgba(0, 0, 0, 1.000)\",\"x\":1.0},\"xaxis\":{\"type\":\"-\",\"titlefont\":{\"size\":15,\"color\":\"rgba(0, 0, 0, 1.000)\",\"family\":\"sans-serif\"},\"title\":\"\",\"tickfont\":{\"size\":11,\"color\":\"rgba(0, 0, 0, 1.000)\",\"family\":\"sans-serif\"},\"ticks\":\"inside\",\"tickmode\":\"array\",\"showgrid\":true,\"tickvals\":[10.0,20.0,30.0,40.0,50.0,60.0,70.0,80.0],\"domain\":[0.05100612423447069,0.9934383202099737],\"ticktext\":[\"10\",\"20\",\"30\",\"40\",\"50\",\"60\",\"70\",\"80\"],\"tickangle\":0,\"zeroline\":false,\"linecolor\":\"rgba(0, 0, 0, 1.000)\",\"tickcolor\":\"rgba(0, 0, 0, 1.000)\",\"anchor\":\"y\"},\"paper_bgcolor\":\"rgba(255, 255, 255, 1.000)\",\"height\":400,\"margin\":{\"r\":0,\"l\":0,\"b\":20,\"t\":20}});\n",
       "    </script>\n"
      ]
     },
     "execution_count": 41,
     "metadata": {},
     "output_type": "execute_result"
    }
   ],
   "source": [
    "# Recursion 32\n",
    "a = zeros(Float32, 80)\n",
    "\n",
    "a[1] = Float32(1)\n",
    "a[2] = Float32(2/3)\n",
    "\n",
    "for i in 3:80\n",
    "    a[i] = recursion32(a[i-1], a[i-2])\n",
    "end\n",
    "\n",
    "Plots.plot(1:80, a)"
   ]
  },
  {
   "cell_type": "code",
   "execution_count": 88,
   "metadata": {},
   "outputs": [
    {
     "name": "stderr",
     "output_type": "stream",
     "text": [
      "\u001b[1m\u001b[31mWARNING: linestyle dot is unsupported with Plots.PlotlyBackend().  Choose from: Symbol[:auto,:solid,:dash,:dot,:dashdot]\u001b[0m\n"
     ]
    },
    {
     "data": {
      "text/html": [
       "<script src=\"/home/edoardo/.julia/v0.5/Plots/src/backends/../../deps/plotly-latest.min.js\"></script>    <div id=\"7e5bfc30-a8a9-44ef-9691-453108c04864\" style=\"width:600px;height:400px;\"></div>\n",
       "    <script>\n",
       "    PLOT = document.getElementById('7e5bfc30-a8a9-44ef-9691-453108c04864');\n",
       "    Plotly.plot(PLOT, [{\"yaxis\":\"y\",\"y\":[1.0,0.6666666666666666,0.4444444444444444,0.2962962962962963,0.19753086419753085,0.1316872427983539,0.08779149519890259,0.05852766346593506,0.039018442310623375,0.026012294873748912,0.017341529915832612,0.011561019943888407,0.007707346629258937,0.005138231086172625,0.0034254873907817495,0.0022836582605211663,0.001522438840347444,0.0010149592268982961,0.0006766394845988641,0.0004510929897325761,0.00030072865982171734,0.00020048577321447826,0.00013365718214298548,8.910478809532365e-5,5.9403192063549106e-5,3.960212804236606e-5,2.6401418694910712e-5,1.7600945796607144e-5,1.173396386440476e-5,7.82264257626984e-6,5.215095050846559e-6,3.476730033897706e-6,2.3178200225984708e-6,1.5452133483989804e-6,1.030142232265987e-6,6.867614881773246e-7,4.578409921182164e-7,3.0522732807881095e-7,2.0348488538587396e-7,1.356565902572493e-7,9.04377268381662e-8,6.029181789211079e-8,4.01945452614072e-8,2.67963635076048e-8,1.7864242338403196e-8,1.1909494892268798e-8,7.93966326151253e-9,5.293108841008355e-9,3.5287392273389025e-9,2.352492818225935e-9,1.5683285454839566e-9,1.0455523636559714e-9,6.970349091039808e-10,4.646899394026539e-10,3.0979329293510254e-10,2.0652886195673503e-10,1.3768590797115669e-10,9.179060531410445e-11,6.119373687606963e-11,4.0795824584046424e-11,2.7197216389364282e-11,1.813147759290952e-11,1.2087651728606344e-11,8.058434485737565e-12,5.372289657158376e-12,3.581526438105584e-12,2.3876842920703892e-12,1.5917895280469262e-12,1.0611930186979508e-12,7.074620124653005e-13,4.716413416435336e-13,3.1442756109568906e-13,2.096183740637927e-13,1.3974558270919513e-13,9.31637218061301e-14,6.210914787075338e-14,4.140609858050226e-14,2.760406572033484e-14,1.8402710480223226e-14,1.2268473653482148e-14],\"showlegend\":true,\"name\":\"True Function\",\"type\":\"scatter\",\"xaxis\":\"x\",\"line\":{\"width\":1,\"dash\":\"dot\",\"color\":\"rgba(255, 0, 0, 1.000)\",\"shape\":\"linear\"},\"colorbar\":{\"title\":\"\"},\"x\":[1,2,3,4,5,6,7,8,9,10,11,12,13,14,15,16,17,18,19,20,21,22,23,24,25,26,27,28,29,30,31,32,33,34,35,36,37,38,39,40,41,42,43,44,45,46,47,48,49,50,51,52,53,54,55,56,57,58,59,60,61,62,63,64,65,66,67,68,69,70,71,72,73,74,75,76,77,78,79,80],\"mode\":\"lines\"},{\"yaxis\":\"y\",\"y\":[1.0,0.6666666666666666,0.4444444444444444,0.2962962962962963,0.19753086419753085,0.13168724279835392,0.08779149519890264,0.05852766346593513,0.03901844231062347,0.02601229487374905,0.017341529915832793,0.011561019943888654,0.00770734662925927,0.0051382310861730705,0.0034254873907823453,0.0022836582605219617,0.0015224388403485053,0.0010149592268997114,0.0006766394846007516,0.0004510929897350931,0.0003007286598250737,0.00020048577321895358,0.00013365718214895274,8.91047881032801e-5,5.940319207415777e-5,3.960212805651101e-5,2.6401418713770674e-5,1.7600945821753784e-5,1.1733963897933636e-5,7.822642620975019e-6,5.215095110453474e-6,3.476730113373598e-6,2.31782012856633e-6,1.5452134896894617e-6,1.0301424206532968e-6,6.867617393604057e-7,4.57841327028992e-7,3.0522777462651227e-7,2.0348548078280947e-7,1.3565738411983025e-7,9.043878532160766e-8,6.029322920336621e-8,4.019642700974784e-8,2.6798872505392385e-8,1.786758766878669e-8,1.1913955332780153e-8,7.945610515527693e-9,5.301038513028584e-9,3.5393121233658858e-9,2.3665900129285863e-9,1.5871248050874963e-9,1.0706140431273603e-9,7.304504817325018e-10,5.092440362406835e-10,3.691987553858099e-10,2.8573614522434563e-10,2.43295618994638e-10,2.3260355334541328e-10,2.4894433425114837e-10,2.9112995441748495e-10,3.6097605616728247e-10,4.631699306301339e-10,6.05472255778239e-10,7.992379065519146e-10,1.0602782524120612e-9,1.4101228101113096e-9,1.877776062523009e-9,2.502109627169299e-9,3.3350849765403674e-9,4.446072506708025e-9,5.927625034269057e-9,7.903185618130981e-9,1.0537371205800579e-8,1.4049688528818064e-8,1.873282487470228e-8,2.4977037723788503e-8,3.3302675558952757e-8,4.440353980787129e-8,5.920470134111791e-8,7.893958951968356e-8],\"showlegend\":true,\"name\":\"Empirical\",\"type\":\"scatter\",\"xaxis\":\"x\",\"line\":{\"width\":1,\"dash\":\"solid\",\"color\":\"rgba(0, 0, 255, 1.000)\",\"shape\":\"linear\"},\"colorbar\":{\"title\":\"\"},\"x\":[1,2,3,4,5,6,7,8,9,10,11,12,13,14,15,16,17,18,19,20,21,22,23,24,25,26,27,28,29,30,31,32,33,34,35,36,37,38,39,40,41,42,43,44,45,46,47,48,49,50,51,52,53,54,55,56,57,58,59,60,61,62,63,64,65,66,67,68,69,70,71,72,73,74,75,76,77,78,79,80],\"mode\":\"lines\"}], {\"yaxis\":{\"type\":\"-\",\"titlefont\":{\"size\":15,\"color\":\"rgba(0, 0, 0, 1.000)\",\"family\":\"sans-serif\"},\"title\":\"\",\"tickfont\":{\"size\":11,\"color\":\"rgba(0, 0, 0, 1.000)\",\"family\":\"sans-serif\"},\"ticks\":\"inside\",\"tickmode\":\"array\",\"showgrid\":true,\"tickvals\":[0.2,0.4,0.6000000000000001,0.8,1.0],\"domain\":[0.03762029746281716,0.9901574803149606],\"ticktext\":[\"0.2\",\"0.4\",\"0.6\",\"0.8\",\"1.0\"],\"tickangle\":0,\"zeroline\":false,\"linecolor\":\"rgba(0, 0, 0, 1.000)\",\"tickcolor\":\"rgba(0, 0, 0, 1.000)\",\"anchor\":\"x\"},\"annotations\":[],\"width\":600,\"plot_bgcolor\":\"rgba(255, 255, 255, 1.000)\",\"showlegend\":true,\"legend\":{\"bgcolor\":\"rgba(255, 255, 255, 1.000)\",\"y\":1.0,\"font\":{\"size\":11,\"color\":\"rgba(0, 0, 0, 1.000)\",\"family\":\"sans-serif\"},\"bordercolor\":\"rgba(0, 0, 0, 1.000)\",\"x\":1.0},\"xaxis\":{\"type\":\"-\",\"titlefont\":{\"size\":15,\"color\":\"rgba(0, 0, 0, 1.000)\",\"family\":\"sans-serif\"},\"title\":\"\",\"tickfont\":{\"size\":11,\"color\":\"rgba(0, 0, 0, 1.000)\",\"family\":\"sans-serif\"},\"ticks\":\"inside\",\"tickmode\":\"array\",\"showgrid\":true,\"tickvals\":[10.0,20.0,30.0,40.0,50.0,60.0,70.0,80.0],\"domain\":[0.05100612423447069,0.9934383202099737],\"ticktext\":[\"10\",\"20\",\"30\",\"40\",\"50\",\"60\",\"70\",\"80\"],\"tickangle\":0,\"zeroline\":false,\"linecolor\":\"rgba(0, 0, 0, 1.000)\",\"tickcolor\":\"rgba(0, 0, 0, 1.000)\",\"anchor\":\"y\"},\"paper_bgcolor\":\"rgba(255, 255, 255, 1.000)\",\"height\":400,\"margin\":{\"r\":0,\"l\":0,\"b\":20,\"t\":20}});\n",
       "    </script>\n"
      ]
     },
     "execution_count": 88,
     "metadata": {},
     "output_type": "execute_result"
    }
   ],
   "source": [
    "# Recursion 64\n",
    "\n",
    "a = zeros(Float64, 80)\n",
    "\n",
    "\n",
    "a[1] = Float64(1)\n",
    "a[2] = Float64(2/3)\n",
    "\n",
    "for i in 3:80\n",
    "    a[i] = recursion64(a[i-1], a[i-2])\n",
    "end\n",
    "\n",
    "plot_true()\n",
    "Plots.plot!(1:80, a[1:80], label=\"Empirical\", color=\"blue\")"
   ]
  },
  {
   "cell_type": "code",
   "execution_count": 92,
   "metadata": {},
   "outputs": [
    {
     "name": "stderr",
     "output_type": "stream",
     "text": [
      "\u001b[1m\u001b[31mWARNING: linestyle dot is unsupported with Plots.PlotlyBackend().  Choose from: Symbol[:auto,:solid,:dash,:dot,:dashdot]\u001b[0m\n"
     ]
    },
    {
     "data": {
      "text/html": [
       "<script src=\"/home/edoardo/.julia/v0.5/Plots/src/backends/../../deps/plotly-latest.min.js\"></script>    <div id=\"b4005f19-a316-4e58-acab-c48e8045e6a6\" style=\"width:600px;height:400px;\"></div>\n",
       "    <script>\n",
       "    PLOT = document.getElementById('b4005f19-a316-4e58-acab-c48e8045e6a6');\n",
       "    Plotly.plot(PLOT, [{\"yaxis\":\"y\",\"y\":[1.0,0.6666666666666666,0.4444444444444444,0.2962962962962963,0.19753086419753085,0.1316872427983539,0.08779149519890259,0.05852766346593506,0.039018442310623375,0.026012294873748912,0.017341529915832612,0.011561019943888407,0.007707346629258937,0.005138231086172625,0.0034254873907817495,0.0022836582605211663,0.001522438840347444,0.0010149592268982961,0.0006766394845988641,0.0004510929897325761,0.00030072865982171734,0.00020048577321447826,0.00013365718214298548,8.910478809532365e-5,5.9403192063549106e-5,3.960212804236606e-5,2.6401418694910712e-5,1.7600945796607144e-5,1.173396386440476e-5,7.82264257626984e-6,5.215095050846559e-6,3.476730033897706e-6,2.3178200225984708e-6,1.5452133483989804e-6,1.030142232265987e-6,6.867614881773246e-7,4.578409921182164e-7,3.0522732807881095e-7,2.0348488538587396e-7,1.356565902572493e-7,9.04377268381662e-8,6.029181789211079e-8,4.01945452614072e-8,2.67963635076048e-8,1.7864242338403196e-8,1.1909494892268798e-8,7.93966326151253e-9,5.293108841008355e-9,3.5287392273389025e-9,2.352492818225935e-9,1.5683285454839566e-9,1.0455523636559714e-9,6.970349091039808e-10,4.646899394026539e-10,3.0979329293510254e-10,2.0652886195673503e-10,1.3768590797115669e-10,9.179060531410445e-11,6.119373687606963e-11,4.0795824584046424e-11,2.7197216389364282e-11,1.813147759290952e-11,1.2087651728606344e-11,8.058434485737565e-12,5.372289657158376e-12,3.581526438105584e-12,2.3876842920703892e-12,1.5917895280469262e-12,1.0611930186979508e-12,7.074620124653005e-13,4.716413416435336e-13,3.1442756109568906e-13,2.096183740637927e-13,1.3974558270919513e-13,9.31637218061301e-14,6.210914787075338e-14,4.140609858050226e-14,2.760406572033484e-14,1.8402710480223226e-14,1.2268473653482148e-14],\"showlegend\":true,\"name\":\"True Function\",\"type\":\"scatter\",\"xaxis\":\"x\",\"line\":{\"width\":1,\"dash\":\"dot\",\"color\":\"rgba(255, 0, 0, 1.000)\",\"shape\":\"linear\"},\"colorbar\":{\"title\":\"\"},\"x\":[1,2,3,4,5,6,7,8,9,10,11,12,13,14,15,16,17,18,19,20,21,22,23,24,25,26,27,28,29,30,31,32,33,34,35,36,37,38,39,40,41,42,43,44,45,46,47,48,49,50,51,52,53,54,55,56,57,58,59,60,61,62,63,64,65,66,67,68,69,70,71,72,73,74,75,76,77,78,79,80],\"mode\":\"lines\"},{\"yaxis\":\"y\",\"y\":[1.0,0.6666666666666666,0.4444444444444444,0.29629629629629634,0.19753086419753094,0.13168724279835406,0.08779149519890285,0.05852766346593544,0.039018442310623895,0.026012294873749633,0.01734152991583358,0.011561019943889708,0.007707346629260681,0.005138231086174955,0.0034254873907848607,0.002283658260525317,0.0015224388403529807,0.0010149592269056793,0.0006766394846087093,0.0004510929897457038,0.0003007286598392215,0.00020048577323781747,0.0001336571821741047,8.910478813681612e-5,5.940319211887251e-5,3.960212811613069e-5,2.6401418793263598e-5,1.760094592774436e-5,1.1733964039254417e-5,7.822642809402735e-6,5.215095361690433e-6,3.476730448356214e-6,2.3178205752098205e-6,1.5452140852141179e-6,1.030143214686173e-6,6.867627980709081e-7,4.578427386429957e-7,3.052296567785176e-7,2.0348799031881676e-7,1.3566073016784017e-7,9.044324671895434e-8,6.029917773316186e-8,4.020435838280876e-8,2.680944766947364e-8,1.7881687887561724e-8,1.1932755624480213e-8,7.970677571127782e-9,5.33446125382871e-9,3.5838757777660586e-9,2.4260082187954856e-9,1.6663490795766975e-9,1.1762464091129632e-9,8.712936363799734e-10,6.970349091039794e-10,6.195865858702048e-10,6.195865858702057e-10,6.884295398557849e-10,8.261154478269426e-10,1.0402935268931875e-9,1.3462622112735372e-9,1.7678190653086855e-9,2.338960609485338e-9,3.1065264942518447e-9,4.133976891183389e-9,5.506596898587361e-9,7.338547671678376e-9,9.78234254461243e-9,1.3041531603288527e-8,1.7387647611366008e-8,2.3182822686475545e-8,3.090995860729242e-8,4.1212963715495465e-8,5.495040866895323e-8,7.326707181302159e-8,9.7689335920307e-8,1.302523857845948e-7,1.736698063066945e-7,2.3155971413819362e-7,3.0874626711488103e-7,4.116616772180344e-7],\"showlegend\":true,\"name\":\"Empirical\",\"type\":\"scatter\",\"xaxis\":\"x\",\"line\":{\"width\":1,\"dash\":\"solid\",\"color\":\"rgba(0, 0, 255, 1.000)\",\"shape\":\"linear\"},\"colorbar\":{\"title\":\"\"},\"x\":[1,2,3,4,5,6,7,8,9,10,11,12,13,14,15,16,17,18,19,20,21,22,23,24,25,26,27,28,29,30,31,32,33,34,35,36,37,38,39,40,41,42,43,44,45,46,47,48,49,50,51,52,53,54,55,56,57,58,59,60,61,62,63,64,65,66,67,68,69,70,71,72,73,74,75,76,77,78,79,80],\"mode\":\"lines\"}], {\"yaxis\":{\"type\":\"-\",\"titlefont\":{\"size\":15,\"color\":\"rgba(0, 0, 0, 1.000)\",\"family\":\"sans-serif\"},\"title\":\"\",\"tickfont\":{\"size\":11,\"color\":\"rgba(0, 0, 0, 1.000)\",\"family\":\"sans-serif\"},\"ticks\":\"inside\",\"tickmode\":\"array\",\"showgrid\":true,\"tickvals\":[0.2,0.4,0.6000000000000001,0.8,1.0],\"domain\":[0.03762029746281716,0.9901574803149606],\"ticktext\":[\"0.2\",\"0.4\",\"0.6\",\"0.8\",\"1.0\"],\"tickangle\":0,\"zeroline\":false,\"linecolor\":\"rgba(0, 0, 0, 1.000)\",\"tickcolor\":\"rgba(0, 0, 0, 1.000)\",\"anchor\":\"x\"},\"annotations\":[],\"width\":600,\"plot_bgcolor\":\"rgba(255, 255, 255, 1.000)\",\"showlegend\":true,\"legend\":{\"bgcolor\":\"rgba(255, 255, 255, 1.000)\",\"y\":1.0,\"font\":{\"size\":11,\"color\":\"rgba(0, 0, 0, 1.000)\",\"family\":\"sans-serif\"},\"bordercolor\":\"rgba(0, 0, 0, 1.000)\",\"x\":1.0},\"xaxis\":{\"type\":\"-\",\"titlefont\":{\"size\":15,\"color\":\"rgba(0, 0, 0, 1.000)\",\"family\":\"sans-serif\"},\"title\":\"\",\"tickfont\":{\"size\":11,\"color\":\"rgba(0, 0, 0, 1.000)\",\"family\":\"sans-serif\"},\"ticks\":\"inside\",\"tickmode\":\"array\",\"showgrid\":true,\"tickvals\":[10.0,20.0,30.0,40.0,50.0,60.0,70.0,80.0],\"domain\":[0.05100612423447069,0.9934383202099737],\"ticktext\":[\"10\",\"20\",\"30\",\"40\",\"50\",\"60\",\"70\",\"80\"],\"tickangle\":0,\"zeroline\":false,\"linecolor\":\"rgba(0, 0, 0, 1.000)\",\"tickcolor\":\"rgba(0, 0, 0, 1.000)\",\"anchor\":\"y\"},\"paper_bgcolor\":\"rgba(255, 255, 255, 1.000)\",\"height\":400,\"margin\":{\"r\":0,\"l\":0,\"b\":20,\"t\":20}});\n",
       "    </script>\n"
      ]
     },
     "execution_count": 92,
     "metadata": {},
     "output_type": "execute_result"
    }
   ],
   "source": [
    "# Recursion Big\n",
    "\n",
    "a = zeros(BigFloat, 80)\n",
    "\n",
    "\n",
    "a[1] = BigFloat(1)\n",
    "a[2] = BigFloat(2/3)\n",
    "\n",
    "for i in 3:80\n",
    "    a[i] = recursionBig(a[i-1], a[i-2])\n",
    "end\n",
    "\n",
    "plot_true()\n",
    "Plots.plot!(1:80, a[1:80], label=\"Empirical\", color=\"blue\")"
   ]
  },
  {
   "cell_type": "code",
   "execution_count": 107,
   "metadata": {},
   "outputs": [
    {
     "data": {
      "text/html": [
       "<script src=\"/home/edoardo/.julia/v0.5/Plots/src/backends/../../deps/plotly-latest.min.js\"></script>    <div id=\"e8781953-05d2-4f79-8784-6b675a000b10\" style=\"width:600px;height:400px;\"></div>\n",
       "    <script>\n",
       "    PLOT = document.getElementById('e8781953-05d2-4f79-8784-6b675a000b10');\n",
       "    Plotly.plot(PLOT, [{\"yaxis\":\"y\",\"y\":[0.0,0.0,0.0,1.1102230246251565e-16,4.440892098500626e-16,1.0807327255335506e-15,2.4299139089745114e-15,5.239298578318946e-15,1.0929571050283224e-14,2.2361859542893603e-14,4.53374588305767e-14,9.126630251239821e-14,1.8308496283299349e-13,3.667957934402577e-13,7.343284769572008e-13,1.4693782621580854e-12,2.9395888548615482e-12,5.8799786329156796e-12,1.1760726781661917e-11,2.3522227279168493e-11,4.704513900458882e-11,9.409092325817047e-11,1.8818269291574983e-10,3.763661066460395e-10,7.527329436808379e-10,1.5054665384504569e-9,3.0109338096873227e-9,6.021868374402754e-9,1.2043737537784936e-8,2.4087475972074815e-8,4.81749525647265e-8,9.634990500804508e-8,1.9269980670195588e-7,3.853995969553526e-7,7.707991247132025e-7,1.5415979686603065e-6,3.0831948108041138e-6,6.166385112211057e-6,1.2332752182847312e-5,2.4665432196206156e-5,4.933057571278481e-5,9.86599967234249e-5,0.00019731537479674823,0.00039461227628623274,0.0007891506697160749,0.0015780058909851185,0.003154830651603567,0.00630494208219425,0.012591049573156215,0.025107097360463872,0.04991685230754973,0.09866521615674059,0.1928168413462005,0.36876400998153364,0.6781925096760997,1.168387150963129,1.829601053650527,2.551602870830489,3.1788198555412137,3.6242655241960295,3.8973305434126857,4.049897359060478,4.13074953411184,4.172398427670005,4.193539418600944,4.20419045707026,4.20953629128104,4.212214309747391,4.213554597161417,4.214225060769565,4.214560372593468,4.214728048515947,4.214811891480514,4.2148538142137175,4.21487477589306,4.214885256810918,4.214890497289394,4.214893117533519,4.2148944276568026,4.21489508271875],\"showlegend\":true,\"name\":\"y1\",\"type\":\"scatter\",\"xaxis\":\"x\",\"line\":{\"width\":1,\"dash\":\"solid\",\"color\":\"rgba(0, 154, 250, 1.000)\",\"shape\":\"linear\"},\"colorbar\":{\"title\":\"\"},\"x\":[1,2,3,4,5,6,7,8,9,10,11,12,13,14,15,16,17,18,19,20,21,22,23,24,25,26,27,28,29,30,31,32,33,34,35,36,37,38,39,40,41,42,43,44,45,46,47,48,49,50,51,52,53,54,55,56,57,58,59,60,61,62,63,64,65,66,67,68,69,70,71,72,73,74,75,76,77,78,79,80],\"mode\":\"lines\"}], {\"yaxis\":{\"type\":\"-\",\"titlefont\":{\"size\":15,\"color\":\"rgba(0, 0, 0, 1.000)\",\"family\":\"sans-serif\"},\"title\":\"\",\"tickfont\":{\"size\":11,\"color\":\"rgba(0, 0, 0, 1.000)\",\"family\":\"sans-serif\"},\"ticks\":\"inside\",\"tickmode\":\"array\",\"showgrid\":true,\"tickvals\":[0.0,1.0,2.0,3.0,4.0],\"domain\":[0.07581474190726165,0.9415463692038496],\"ticktext\":[\"0\",\"1\",\"2\",\"3\",\"4\"],\"tickangle\":0,\"zeroline\":false,\"linecolor\":\"rgba(0, 0, 0, 1.000)\",\"tickcolor\":\"rgba(0, 0, 0, 1.000)\",\"anchor\":\"x\"},\"annotations\":[{\"text\":\"Error BigFloat vs Float64\",\"y\":1.0,\"xref\":\"paper\",\"font\":{\"size\":20,\"color\":\"rgba(0, 0, 0, 1.000)\",\"family\":\"sans-serif\"},\"xanchor\":\"center\",\"x\":0.5074074074074074,\"yref\":\"paper\",\"showarrow\":false,\"yanchor\":\"top\",\"rotation\":-0.0}],\"width\":600,\"plot_bgcolor\":\"rgba(255, 255, 255, 1.000)\",\"showlegend\":true,\"legend\":{\"bgcolor\":\"rgba(255, 255, 255, 1.000)\",\"y\":1.0,\"font\":{\"size\":11,\"color\":\"rgba(0, 0, 0, 1.000)\",\"family\":\"sans-serif\"},\"bordercolor\":\"rgba(0, 0, 0, 1.000)\",\"x\":1.0},\"xaxis\":{\"type\":\"-\",\"titlefont\":{\"size\":15,\"color\":\"rgba(0, 0, 0, 1.000)\",\"family\":\"sans-serif\"},\"title\":\"x\",\"tickfont\":{\"size\":11,\"color\":\"rgba(0, 0, 0, 1.000)\",\"family\":\"sans-serif\"},\"ticks\":\"inside\",\"tickmode\":\"array\",\"showgrid\":true,\"tickvals\":[10.0,20.0,30.0,40.0,50.0,60.0,70.0,80.0],\"domain\":[0.02137649460484106,0.9934383202099737],\"ticktext\":[\"10\",\"20\",\"30\",\"40\",\"50\",\"60\",\"70\",\"80\"],\"tickangle\":0,\"zeroline\":false,\"linecolor\":\"rgba(0, 0, 0, 1.000)\",\"tickcolor\":\"rgba(0, 0, 0, 1.000)\",\"anchor\":\"y\"},\"paper_bgcolor\":\"rgba(255, 255, 255, 1.000)\",\"height\":400,\"margin\":{\"r\":0,\"l\":0,\"b\":20,\"t\":20}});\n",
       "    </script>\n"
      ]
     },
     "execution_count": 107,
     "metadata": {},
     "output_type": "execute_result"
    }
   ],
   "source": [
    "# Recursion 64\n",
    "\n",
    "a64 = zeros(Float64, 80)\n",
    "\n",
    "\n",
    "a64[1] = Float64(1)\n",
    "a64[2] = Float64(2/3)\n",
    "\n",
    "for i in 3:80\n",
    "    a64[i] = recursion64(a64[i-1], a64[i-2])\n",
    "end\n",
    "\n",
    "\n",
    "\n",
    "# Recursion Big\n",
    "\n",
    "aB = zeros(BigFloat, 80)\n",
    "\n",
    "\n",
    "aB[1] = BigFloat(1)\n",
    "aB[2] = BigFloat(2/3)\n",
    "\n",
    "for i in 3:80\n",
    "    aB[i] = recursionBig(aB[i-1], aB[i-2])\n",
    "end\n",
    "\n",
    "# Plots.title(\"Error BigFloat vs Float64\")\n",
    "\n",
    "Plots.plot(1:80, (aB-a64)./a64, title=\"Error BigFloat vs Float64\", xlabel=\"x\")"
   ]
  },
  {
   "cell_type": "markdown",
   "metadata": {},
   "source": [
    "## Question 2: Computational complexity of the mergesort algorithm\n",
    "\n",
    "Consider two arrays of integers, A and B, having lengths n and m respectively. Assuming that the elements of A and B are already sorted in ascending order. The following recursive function merges them to return an array of length n+m whose elements are sorted in ascending order:\n",
    "\n"
   ]
  },
  {
   "cell_type": "code",
   "execution_count": 100,
   "metadata": {},
   "outputs": [
    {
     "data": {
      "text/plain": [
       "mergepresorted (generic function with 1 method)"
      ]
     },
     "execution_count": 100,
     "metadata": {},
     "output_type": "execute_result"
    }
   ],
   "source": [
    "function mergepresorted(A::Array{Int64,1}, B::Array{Int64,1})\n",
    "    if length(A) == 0\n",
    "        return B\n",
    "    elseif length(B) == 0\n",
    "        return A\n",
    "    elseif A[1] < B[1]\n",
    "        return vcat([A[1]], mergepresorted(A[2:end], B))\n",
    "    else\n",
    "        return vcat([B[1]], mergepresorted(A, B[2:end]))\n",
    "    end    \n",
    "end"
   ]
  },
  {
   "cell_type": "markdown",
   "metadata": {},
   "source": [
    "The computational complexity of this function is $n+m$.\n",
    "\n",
    "1. Verify that the function mergepresorted(A, B) works as described.\n",
    "2. Write a recursive function that implements the mergesort algorithm for an array of integers whose length, $n$ is a power of 2: $n=2^m$. Verify that it works by generating some arrays of random integers and using your function to sort them.\n",
    "3. Explain why the computational complexity, $F(n)$, of your mergesort algorithm satisfies the recursion\n",
    "> $F(n) = 2\\, F(\\frac{n}{2}) + n\\ \\ \\ \\ $ with initial condition $F(1)=1$.  \n",
    "4. Introduce the new variable p defined by $n = 2^p$ and let $b_p = F(2^p)$. Show that in these variables the above equation takes the form\n",
    "> $b_p = 2 b_{p−1} + 2^p\\ \\ \\ \\ $ with initial condition $b_0 = 1$.\n",
    "5. Find the general solution to the associated homogeneous recursion relation (ie without the $2^p$ term).\n",
    "6. Find a particular solution of the original inhomogenous recursion relation and use the initial condition to determine the constant in the homogenous solution.\n",
    "7. Hence show that the computational complexity of the mergesort algorithm is\n",
    "> $F(n) = O(n\\, \\log n)$.\n",
    "8. Use Julia's @timed macro to measure the execution time of your mergesort function for arrays of lengths $\\{2^i : i =1 : 15\\}$. Compare the results to the theoretical expectations."
   ]
  },
  {
   "cell_type": "code",
   "execution_count": 101,
   "metadata": {},
   "outputs": [
    {
     "data": {
      "text/plain": [
       "10-element Array{Int64,1}:\n",
       "  1\n",
       "  2\n",
       "  3\n",
       "  3\n",
       "  4\n",
       "  7\n",
       "  8\n",
       "  9\n",
       "  9\n",
       " 10"
      ]
     },
     "execution_count": 101,
     "metadata": {},
     "output_type": "execute_result"
    }
   ],
   "source": [
    "# Verify works as expected\n",
    "A = zeros(Int64, 5)\n",
    "B = zeros(Int64, 5)\n",
    "\n",
    "A = [1,3,7,8,9]\n",
    "B = [2,3,4,9,10]\n",
    "\n",
    "@show mergepresorted(A,B)\n",
    "\n"
   ]
  }
 ],
 "metadata": {
  "anaconda-cloud": {},
  "kernelspec": {
   "display_name": "Julia 0.5.2",
   "language": "julia",
   "name": "julia-0.5"
  },
  "language_info": {
   "file_extension": ".jl",
   "mimetype": "application/julia",
   "name": "julia",
   "version": "0.5.2"
  }
 },
 "nbformat": 4,
 "nbformat_minor": 1
}
