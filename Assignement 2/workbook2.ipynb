{
 "cells": [
  {
   "cell_type": "markdown",
   "metadata": {},
   "source": [
    "# MA934  Numerical Methods - Workbook 2"
   ]
  },
  {
   "cell_type": "code",
   "execution_count": 33,
   "metadata": {},
   "outputs": [
    {
     "name": "stderr",
     "output_type": "stream",
     "text": [
      "WARNING: Method definition (::Type{Main.KVPair})(Int64, Float64) in module Main at /home/edoardo/Downloads/Complexity/Numerical Methods/Assignements/Assignement 2/kvpair.jl:3 overwritten at /home/edoardo/Downloads/Complexity/Numerical Methods/Assignements/Assignement 2/kvpair.jl:3.\n",
      "WARNING: Method definition (::Type{Main.KVPair})(Any, Any) in module Main at /home/edoardo/Downloads/Complexity/Numerical Methods/Assignements/Assignement 2/kvpair.jl:3 overwritten at /home/edoardo/Downloads/Complexity/Numerical Methods/Assignements/Assignement 2/kvpair.jl:3.\n"
     ]
    },
    {
     "ename": "LoadError",
     "evalue": "LoadError: invalid redefinition of constant LList\nwhile loading /home/edoardo/Downloads/Complexity/Numerical Methods/Assignements/Assignement 2/llist.jl, in expression starting on line 2",
     "output_type": "error",
     "traceback": [
      "LoadError: invalid redefinition of constant LList\nwhile loading /home/edoardo/Downloads/Complexity/Numerical Methods/Assignements/Assignement 2/llist.jl, in expression starting on line 2",
      "",
      " in include_from_node1(::String) at ./loading.jl:488",
      " in include_string(::String, ::String) at ./loading.jl:441"
     ]
    }
   ],
   "source": [
    "using Plots\n",
    "using Distributions\n",
    "Plots.plotly()\n",
    "include(\"kvpair.jl\")\n",
    "include(\"llist.jl\")\n",
    "include(\"ftree.jl\")\n",
    "include(\"functions.jl\")"
   ]
  },
  {
   "cell_type": "code",
   "execution_count": 3,
   "metadata": {},
   "outputs": [
    {
     "data": {
      "text/plain": [
       "MersenneTwister(UInt32[0x0000029a],Base.dSFMT.DSFMT_state(Int32[-1829720698,1073617959,-209863392,1073342874,851925708,1073663428,929754575,1073410908,-1469009651,1073283821  …  -1656730289,1072845189,1382744295,1073272649,-1940720456,-2031062331,1988518479,1214015520,382,0]),[0.0,0.0,0.0,0.0,0.0,0.0,0.0,0.0,0.0,0.0  …  0.0,0.0,0.0,0.0,0.0,0.0,0.0,0.0,0.0,0.0],382)"
      ]
     },
     "execution_count": 3,
     "metadata": {},
     "output_type": "execute_result"
    }
   ],
   "source": [
    "#### GLOBAL VARS ####\n",
    "sizes = 2.^(1:10)\n",
    " # Seed for random number generator. \n",
    "# You should choose your own seed so that everyone does not end up with the same random sequences\n",
    "seed = 666 \n",
    "\n",
    "# Initialise the random number generator\n",
    "rng = MersenneTwister(seed)"
   ]
  },
  {
   "cell_type": "markdown",
   "metadata": {},
   "source": [
    "## Question 1: Linear search using a linked list\n",
    "\n",
    "The file KVPair.jl defines a simple data structure to represent an (Int64, Float64) key-value pair. \n",
    "\n",
    "The file LList.jl defines a linked list that stores a KVPair at each node. Many languages have a keyword NULL. A pointer to any object can take the value NULL to indicate that it doesn't point to anything. NULL is often used to denote the end of a list, the leaves of a tree etc. Julia does not support NULL pointers. This causes a difficulty in implementing recursive data structures. Instead Julia provides a parametric data type Nullable{T} to represent missing values. It is possible to use Nullable types to define recursive data structures although some of the resulting definitions are a bit clumsy. I'm not sure that this is the canonical way to implement structural recursion in Julia. \n",
    "\n",
    "The following points are important:\n",
    "\n",
    "* if a variable has type Nullable{T} then it can either contain a value of type T or nothing (ie a missing value). \n",
    "* the function isnull(x) checks whether a nullable type x has a value or not. \n",
    "* the function get(x) returns the actual value (of type T) contained in a nullable type x.\n",
    "\n",
    "Much more information can be found at https://docs.julialang.org/en/stable/manual/types/\n",
    "\n",
    "The function \n",
    "\n",
    "> buildLList(dataArray::Array{KVPair, 1})\n",
    "\n",
    "takes an array of KVPair objects as input and returns an LList containing these KVPairs. This is illustrated in the code below.\n",
    "\n",
    "1. Write a recursive function that traverses the list and prints out the key-value pairs stored in it. Check that your function works.\n",
    "2. Write a function search(list::Nullable{LList}, k::Int64) that searches an LList for the key k and returns the corresponding KVPair if it is present and a Nullable{KVPair} otherwise. Verify that your function works.\n",
    "3. Use Julia's @timed macro to measure how the typical computational cost of your search() function grows with the length of the list. "
   ]
  },
  {
   "cell_type": "code",
   "execution_count": null,
   "metadata": {},
   "outputs": [],
   "source": []
  },
  {
   "cell_type": "code",
   "execution_count": 11,
   "metadata": {},
   "outputs": [
    {
     "name": "stdout",
     "output_type": "stream",
     "text": [
      "node.data = KVPair(1,0.600172671143351)\n",
      "node.data = KVPair(2,0.7480518123051316)\n",
      "node.data = KVPair(3,0.25716989482076613)\n",
      "node.data = KVPair(4,0.8149809648855131)\n",
      "node.data = KVPair(5,0.2897441989895193)\n",
      "times = [2.42067e-7,1.96633e-7,1.696e-7,2.002e-7,2.70433e-7,4.61733e-7,9.28667e-7,1.9723e-6,4.81717e-6,6.5116e-6,1.79789e-5,3.78446e-5]\n"
     ]
    },
    {
     "data": {
      "text/html": [
       "<script src=\"/home/edoardo/.julia/v0.5/Plots/src/backends/../../deps/plotly-latest.min.js\"></script>    <div id=\"e287e75b-58bf-4e44-aed2-5d18285d2922\" style=\"width:600px;height:400px;\"></div>\n",
       "    <script>\n",
       "    PLOT = document.getElementById('e287e75b-58bf-4e44-aed2-5d18285d2922');\n",
       "    Plotly.plot(PLOT, [{\"yaxis\":\"y\",\"y\":[2.420666666666666e-7,1.9663333333333333e-7,1.6959999999999998e-7,2.0019999999999998e-7,2.704333333333333e-7,4.617333333333333e-7,9.286666666666667e-7,1.9723e-6,4.817166666666667e-6,6.511599999999999e-6,1.7978933333333335e-5,3.78446e-5],\"showlegend\":true,\"name\":\"y1\",\"type\":\"scatter\",\"xaxis\":\"x\",\"line\":{\"width\":1,\"dash\":\"solid\",\"color\":\"rgba(0, 154, 250, 1.000)\",\"shape\":\"linear\"},\"colorbar\":{\"title\":\"\"},\"x\":[2,4,8,16,32,64,128,256,512,1024,2048,4096],\"mode\":\"lines\"}], {\"yaxis\":{\"type\":\"-\",\"titlefont\":{\"size\":15,\"color\":\"rgba(0, 0, 0, 1.000)\",\"family\":\"sans-serif\"},\"title\":\"\",\"tickfont\":{\"size\":11,\"color\":\"rgba(0, 0, 0, 1.000)\",\"family\":\"sans-serif\"},\"ticks\":\"inside\",\"tickmode\":\"array\",\"showgrid\":true,\"tickvals\":[4.9999999999999996e-6,9.999999999999999e-6,1.4999999999999999e-5,1.9999999999999998e-5,2.4999999999999998e-5,2.9999999999999997e-5,3.5e-5],\"domain\":[0.03762029746281716,0.9901574803149606],\"ticktext\":[\"0.000005\",\"0.000010\",\"0.000015\",\"0.000020\",\"0.000025\",\"0.000030\",\"0.000035\"],\"tickangle\":0,\"zeroline\":false,\"linecolor\":\"rgba(0, 0, 0, 1.000)\",\"tickcolor\":\"rgba(0, 0, 0, 1.000)\",\"anchor\":\"x\"},\"annotations\":[],\"width\":600,\"plot_bgcolor\":\"rgba(255, 255, 255, 1.000)\",\"showlegend\":true,\"legend\":{\"bgcolor\":\"rgba(255, 255, 255, 1.000)\",\"y\":1.0,\"font\":{\"size\":11,\"color\":\"rgba(0, 0, 0, 1.000)\",\"family\":\"sans-serif\"},\"bordercolor\":\"rgba(0, 0, 0, 1.000)\",\"x\":1.0},\"xaxis\":{\"type\":\"-\",\"titlefont\":{\"size\":15,\"color\":\"rgba(0, 0, 0, 1.000)\",\"family\":\"sans-serif\"},\"title\":\"\",\"tickfont\":{\"size\":11,\"color\":\"rgba(0, 0, 0, 1.000)\",\"family\":\"sans-serif\"},\"ticks\":\"inside\",\"tickmode\":\"array\",\"showgrid\":true,\"tickvals\":[500.0,1000.0,1500.0,2000.0,2500.0,3000.0,3500.0,4000.0],\"domain\":[0.12508019830854475,0.9934383202099737],\"ticktext\":[\"500\",\"1000\",\"1500\",\"2000\",\"2500\",\"3000\",\"3500\",\"4000\"],\"tickangle\":0,\"zeroline\":false,\"linecolor\":\"rgba(0, 0, 0, 1.000)\",\"tickcolor\":\"rgba(0, 0, 0, 1.000)\",\"anchor\":\"y\"},\"paper_bgcolor\":\"rgba(255, 255, 255, 1.000)\",\"height\":400,\"margin\":{\"r\":0,\"l\":0,\"b\":20,\"t\":20}});\n",
       "    </script>\n"
      ]
     },
     "execution_count": 11,
     "metadata": {},
     "output_type": "execute_result"
    }
   ],
   "source": [
    "list = generate_llist(5)\n",
    "\n",
    "list_trasverser(list)\n",
    "\n",
    "# Test SPEEEEEED\n",
    "repetitions = 30\n",
    "sizes = 2.^(1:12)\n",
    "times = Array(Float64, 0)\n",
    "repetition_times = zeros(repetitions)\n",
    "\n",
    "for size in sizes\n",
    "    for i in 1:repetitions\n",
    "        # Generate list \n",
    "        list = generate_llist(size)\n",
    "        # Get the time for the search, given random key to search\n",
    "        tmp = @timed search_list(list, rand(1:size))\n",
    "        # Add to times array\n",
    "        repetition_times[i] = tmp[2]\n",
    "    end\n",
    "    # Save the averages of executions for a given size\n",
    "    push!( times, mean(repetition_times))\n",
    "end\n",
    "\n",
    "@show times\n",
    "\n",
    "Plots.plot(2.^(1:12), times)"
   ]
  },
  {
   "cell_type": "markdown",
   "metadata": {},
   "source": [
    "## Question 2: Interval membership\n",
    "\n",
    "The problem of interval membership is the following: given a set of contiguous intervals, \n",
    "\n",
    "$\\left\\{[x_0, x_1), [x_1, x_2), \\ldots, [x_{n-2}, x_{n-1}), [x_{n-1}, x_n)\\right\\}$\n",
    "\n",
    "spanning the interval $[x_1, x_n)$ and given a random number $x \\in [x_1, x_n)$, determine the interval in which $x$ lies. The standard numerical algorithm for stochastic simulation of continuous-time Markov processes (eg birth-death process, contact process, SIR model etc) requires solving an interval membership problem at each time step. It is therefore important to be able to solve it efficiently. Note, we cannot assume that all intervals are the same length.\n",
    "\n",
    "We can solve the interval membership problem with $n$ interval by a variant of linear search in $O(n)$ time. We will demonstrate below that it can be solved in $O(\\log\\, n)$ time using a variant of a data structure known as a Fenwick tree.\n",
    "\n",
    "**1)** Use Julia's random number generator to generate $n$ random interval lengths, $y_1, y_2, \\ldots, y_n$ between 0 and 1 as shown: "
   ]
  },
  {
   "cell_type": "code",
   "execution_count": null,
   "metadata": {},
   "outputs": [],
   "source": []
  },
  {
   "cell_type": "code",
   "execution_count": null,
   "metadata": {},
   "outputs": [],
   "source": []
  },
  {
   "cell_type": "markdown",
   "metadata": {},
   "source": [
    "The corresponding interval membership problem is constructed from the partial sums:\n",
    "$$x_i = \\sum_{j=1}^i y_j, \\ \\ \\ \\ \\ i=1,2,\\ldots n.$$ \n",
    "Using the objects defined in KVPair.jl and LList.jl, create an array of key-value pairs, $(i, x_i)$, associating each interval with the corresponding partial sum and store this array in a linked list. Print the list for a small value of $n$to verify that it works.\n",
    "\n",
    "**2)** Modify the search function you wrote above to write a recursive function\n",
    "\n",
    "$$\\text{intervalmembership(list::Nullable{LList}, x::Float64)}$$\n",
    "\n",
    "\n",
    "## I called it \n",
    "> intervalmembership_brute \n",
    "\n",
    "## So that I could have both functions defined in the same file without overwriting\n",
    "\n",
    "that takes the LList containing the list of partial sums and a random Float64 in the range $[0, x_n]$ as inputs and returns the KVPair corresponding to the interval in which $x$ lies. Verify that it works for small values of $n$ and use Julia's @timed macro to measure how the typical computational cost grows with $n$. \n",
    "\n"
   ]
  },
  {
   "cell_type": "code",
   "execution_count": 26,
   "metadata": {},
   "outputs": [],
   "source": [
    "# Setting parameters\n",
    "repetitions = 100\n",
    "times_brute = Array(Float64, 0)\n",
    "repetition_times = zeros(repetitions)\n",
    "\n",
    "for size in sizes\n",
    "    ### Loop over sizes\n",
    "    for i in 1:repetitions\n",
    "        ### Loop over repetitions\n",
    "        \n",
    "        # Generate intervals\n",
    "        llist, cumsum = generate_cumulative_llist(size, rng)\n",
    "\n",
    "        # Get the time for the search, given random value in range\n",
    "        to_search = rand()*cumsum[end]\n",
    "        tmp = @timed intervalmembership_brute(llist, to_search)\n",
    "                \n",
    "        # Add to times array\n",
    "        repetition_times[i] = tmp[2]\n",
    "    end\n",
    "    # Save the averages of executions for a given size\n",
    "    push!( times_brute, mean(repetition_times))\n",
    "end"
   ]
  },
  {
   "cell_type": "code",
   "execution_count": 27,
   "metadata": {},
   "outputs": [
    {
     "data": {
      "text/html": [
       "<script src=\"/home/edoardo/.julia/v0.5/Plots/src/backends/../../deps/plotly-latest.min.js\"></script>    <div id=\"6abf8b70-5319-4b38-9401-2b79a0803850\" style=\"width:600px;height:400px;\"></div>\n",
       "    <script>\n",
       "    PLOT = document.getElementById('6abf8b70-5319-4b38-9401-2b79a0803850');\n",
       "    Plotly.plot(PLOT, [{\"yaxis\":\"y\",\"y\":[3.672e-8,4.167e-8,4.932e-8,6.913e-8,1.2389e-7,2.1996999999999995e-7,3.9777000000000005e-7,1.08819e-6,2.61983e-6,5.9964e-6],\"showlegend\":true,\"name\":\"Empirical\",\"type\":\"scatter\",\"xaxis\":\"x\",\"line\":{\"width\":1,\"dash\":\"solid\",\"color\":\"rgba(0, 154, 250, 1.000)\",\"shape\":\"linear\"},\"colorbar\":{\"title\":\"\"},\"x\":[2,4,8,16,32,64,128,256,512,1024],\"mode\":\"lines\"}], {\"yaxis\":{\"type\":\"-\",\"titlefont\":{\"size\":15,\"color\":\"rgba(0, 0, 0, 1.000)\",\"family\":\"sans-serif\"},\"title\":\"\",\"tickfont\":{\"size\":11,\"color\":\"rgba(0, 0, 0, 1.000)\",\"family\":\"sans-serif\"},\"ticks\":\"inside\",\"tickmode\":\"array\",\"showgrid\":true,\"tickvals\":[1.0e-6,2.0e-6,3.0e-6,4.0e-6,4.9999999999999996e-6],\"domain\":[0.03762029746281716,0.9901574803149606],\"ticktext\":[\"0.000001\",\"0.000002\",\"0.000003\",\"0.000004\",\"0.000005\"],\"tickangle\":0,\"zeroline\":false,\"linecolor\":\"rgba(0, 0, 0, 1.000)\",\"tickcolor\":\"rgba(0, 0, 0, 1.000)\",\"anchor\":\"x\"},\"annotations\":[],\"width\":600,\"plot_bgcolor\":\"rgba(255, 255, 255, 1.000)\",\"showlegend\":true,\"legend\":{\"bgcolor\":\"rgba(255, 255, 255, 1.000)\",\"y\":1.0,\"font\":{\"size\":11,\"color\":\"rgba(0, 0, 0, 1.000)\",\"family\":\"sans-serif\"},\"bordercolor\":\"rgba(0, 0, 0, 1.000)\",\"x\":1.0},\"xaxis\":{\"type\":\"-\",\"titlefont\":{\"size\":15,\"color\":\"rgba(0, 0, 0, 1.000)\",\"family\":\"sans-serif\"},\"title\":\"\",\"tickfont\":{\"size\":11,\"color\":\"rgba(0, 0, 0, 1.000)\",\"family\":\"sans-serif\"},\"ticks\":\"inside\",\"tickmode\":\"array\",\"showgrid\":true,\"tickvals\":[200.0,400.0,600.0,800.0,1000.0],\"domain\":[0.12508019830854475,0.9934383202099737],\"ticktext\":[\"200\",\"400\",\"600\",\"800\",\"1000\"],\"tickangle\":0,\"zeroline\":false,\"linecolor\":\"rgba(0, 0, 0, 1.000)\",\"tickcolor\":\"rgba(0, 0, 0, 1.000)\",\"anchor\":\"y\"},\"paper_bgcolor\":\"rgba(255, 255, 255, 1.000)\",\"height\":400,\"margin\":{\"r\":0,\"l\":0,\"b\":20,\"t\":20}});\n",
       "    </script>\n"
      ]
     },
     "execution_count": 27,
     "metadata": {},
     "output_type": "execute_result"
    }
   ],
   "source": [
    "x = sizes\n",
    "Plots.plot(x, times_brute, label=\"Empirical\")"
   ]
  },
  {
   "cell_type": "markdown",
   "metadata": {},
   "source": [
    "**3)** The file FTree.jl defines a data structure implementing a variant of a Fenwick tree that can solve the interval membership problem as described in the lectures/notes. The function \n",
    "\n",
    "$$\\text{buildFTree(T::Nullable{FTree}, dataArray::Array{KVPair, 1})}$$\n",
    "\n",
    "takes the array of KVPairs containing the interval lengths as input, recursively constructs the tree and returns the FTree containing the correct key-value pairs (note a key of -1 is assigned to all non-leaf nodes)."
   ]
  },
  {
   "cell_type": "code",
   "execution_count": 28,
   "metadata": {},
   "outputs": [],
   "source": [
    "# Set up variables\n",
    "# Note: sizes defined earlier (need to be the same for the two problems)\n",
    "repetitions = 1000\n",
    "times = Array(Float64, 0)\n",
    "repetition_times = zeros(repetitions)\n",
    "\n",
    "for size in sizes\n",
    "    ### Loop over sizes\n",
    "    for i in 1:repetitions\n",
    "        ### Loop over repetitions\n",
    "        \n",
    "        # Generate intervals\n",
    "        values,cumsum,rng = generate_intervals(size, rng)\n",
    "        \n",
    "        # Set up tree\n",
    "        T = Nullable{FTree}(FTree(KVPair(0,0.0)))\n",
    "        T = buildFTree(T, values);\n",
    "        \n",
    "        # Get the time for the search, given random value in range\n",
    "        to_search = rand()*cumsum[end]\n",
    "        tmp = @timed intervalmembership(T, to_search)\n",
    "        \n",
    "        # Add to times array\n",
    "        repetition_times[i] = tmp[2]\n",
    "    end\n",
    "    # Save the averages of executions for a given size\n",
    "    push!( times, mean(repetition_times))\n",
    "end\n",
    "\n",
    "\n",
    "Plots.plot(times)"
   ]
  },
  {
   "cell_type": "code",
   "execution_count": 36,
   "metadata": {},
   "outputs": [
    {
     "data": {
      "text/html": [
       "<script src=\"/home/edoardo/.julia/v0.5/Plots/src/backends/../../deps/plotly-latest.min.js\"></script>    <div id=\"64519250-1d76-4a20-8f28-aab5752e4a50\" style=\"width:600px;height:400px;\"></div>\n",
       "    <script>\n",
       "    PLOT = document.getElementById('64519250-1d76-4a20-8f28-aab5752e4a50');\n",
       "    Plotly.plot(PLOT, [{\"yaxis\":\"y\",\"y\":[6.299100000000002e-8,7.538799999999999e-8,9.4488e-8,1.20111e-7,1.4491000000000002e-7,1.9169199999999997e-7,2.51771e-7,3.2059699999999997e-7,4.4774800000000007e-7,7.144410000000001e-7],\"showlegend\":true,\"name\":\"Tree Search\",\"type\":\"scatter\",\"xaxis\":\"x\",\"line\":{\"width\":1,\"dash\":\"solid\",\"color\":\"rgba(0, 154, 250, 1.000)\",\"shape\":\"linear\"},\"colorbar\":{\"title\":\"\"},\"x\":[2,4,8,16,32,64,128,256],\"mode\":\"lines\"},{\"yaxis\":\"y\",\"y\":[3.672e-8,4.167e-8,4.932e-8,6.913e-8,1.2389e-7,2.1996999999999995e-7,3.9777000000000005e-7,1.08819e-6,2.61983e-6,5.9964e-6],\"showlegend\":true,\"name\":\"List Search\",\"type\":\"scatter\",\"xaxis\":\"x\",\"line\":{\"width\":1,\"dash\":\"solid\",\"color\":\"rgba(227, 111, 71, 1.000)\",\"shape\":\"linear\"},\"colorbar\":{\"title\":\"\"},\"x\":[2,4,8,16,32,64,128,256],\"mode\":\"lines\"},{\"yaxis\":\"y\",\"y\":[4.366203405065153e-8,8.732406810130307e-8,1.309861021519546e-7,1.7464813620260613e-7,2.1831017025325767e-7,2.619722043039092e-7,3.056342383545607e-7,3.4929627240521226e-7],\"showlegend\":true,\"name\":\"Theoretical\",\"type\":\"scatter\",\"xaxis\":\"x\",\"line\":{\"width\":1,\"dash\":\"solid\",\"color\":\"rgba(62, 164, 78, 1.000)\",\"shape\":\"linear\"},\"colorbar\":{\"title\":\"\"},\"x\":[2,4,8,16,32,64,128,256],\"mode\":\"lines\"}], {\"yaxis\":{\"type\":\"-\",\"titlefont\":{\"size\":15,\"color\":\"rgba(0, 0, 0, 1.000)\",\"family\":\"sans-serif\"},\"title\":\"\",\"tickfont\":{\"size\":11,\"color\":\"rgba(0, 0, 0, 1.000)\",\"family\":\"sans-serif\"},\"ticks\":\"inside\",\"tickmode\":\"array\",\"showgrid\":true,\"tickvals\":[1.0e-6,2.0e-6,3.0e-6,4.0e-6,4.9999999999999996e-6],\"domain\":[0.03762029746281716,0.9901574803149606],\"ticktext\":[\"0.000001\",\"0.000002\",\"0.000003\",\"0.000004\",\"0.000005\"],\"tickangle\":0,\"zeroline\":false,\"linecolor\":\"rgba(0, 0, 0, 1.000)\",\"tickcolor\":\"rgba(0, 0, 0, 1.000)\",\"anchor\":\"x\"},\"annotations\":[],\"width\":600,\"plot_bgcolor\":\"rgba(255, 255, 255, 1.000)\",\"showlegend\":true,\"legend\":{\"bgcolor\":\"rgba(255, 255, 255, 1.000)\",\"y\":1.0,\"font\":{\"size\":11,\"color\":\"rgba(0, 0, 0, 1.000)\",\"family\":\"sans-serif\"},\"bordercolor\":\"rgba(0, 0, 0, 1.000)\",\"x\":1.0},\"xaxis\":{\"type\":\"-\",\"titlefont\":{\"size\":15,\"color\":\"rgba(0, 0, 0, 1.000)\",\"family\":\"sans-serif\"},\"title\":\"\",\"tickfont\":{\"size\":11,\"color\":\"rgba(0, 0, 0, 1.000)\",\"family\":\"sans-serif\"},\"ticks\":\"inside\",\"tickmode\":\"array\",\"showgrid\":true,\"tickvals\":[50.0,100.0,150.0,200.0,250.0],\"domain\":[0.12508019830854475,0.9934383202099737],\"ticktext\":[\"50\",\"100\",\"150\",\"200\",\"250\"],\"tickangle\":0,\"zeroline\":false,\"linecolor\":\"rgba(0, 0, 0, 1.000)\",\"tickcolor\":\"rgba(0, 0, 0, 1.000)\",\"anchor\":\"y\"},\"paper_bgcolor\":\"rgba(255, 255, 255, 1.000)\",\"height\":400,\"margin\":{\"r\":0,\"l\":0,\"b\":20,\"t\":20}});\n",
       "    </script>\n"
      ]
     },
     "execution_count": 36,
     "metadata": {},
     "output_type": "execute_result"
    }
   ],
   "source": [
    "x = 2.^(1:8)\n",
    "Plots.plot(x, times, label=\"Tree Search\")\n",
    "Plots.plot!(x, times_brute, label=\"List Search\")\n",
    "Plots.plot!(x, log.(x)*times[1], label=\"Theoretical\")"
   ]
  },
  {
   "cell_type": "markdown",
   "metadata": {},
   "source": [
    "Write a recursive function\n",
    "\n",
    "$$\\text{intervalmembership(FT::Nullable{FTree}, x::Float64)}$$\n",
    "\n",
    "that takes the FTree containing the list of partial sums and a random Float64 in the range $[0, x_n]$ as \n",
    "inputs and returns the KVPair corresponding to the interval in which $x$ lies. Verify that it works for small values of $n$ and use Julia's @timed macro to compare how the typical computational compares to the above linear search version. Note it can sometimes be difficult to directly measure $O(\\log\\, n)$ growth in computation time since the problem size needs to become very large to register appreciable run times."
   ]
  },
  {
   "cell_type": "markdown",
   "metadata": {},
   "source": [
    "## Question 3: Gillespie algorithm for heterogeneous diffusion\n",
    "\n",
    "The Gillespie algorithm is a dynamic Monte Carlo algorithm that generates statistically correct realisations of a continous time Markov process. See https://en.wikipedia.org/wiki/Gillespie_algorithm It is used heavily in stochastic simulation of chemical and biological reaction networks and population dynamics. In this question we use it to simulate one-dimensional diffusion of heterogeneous particles whose diffusion constants are independently drawn from an exponential distribution.\n",
    "\n",
    "The basic idea of the algorithm is as follows\n",
    "1. Create a list $\\left\\{(i, r_i), i=1,\\ldots M\\right\\}$,  of all possible transitions (events), $i$, that can occur in the system and the corresponding transition rates, $r_i$.\n",
    "2. Calculate the total rate\n",
    "$$R = \\sum_{i=1}^M r_i$$\n",
    "and divide the interval $[0, R]$ into $M$ intervals whose lengths are given by the $r_i$.\n",
    "3. Generate a uniform random number in the range $[0,R]$ and determine which interval it falls in. \n",
    "4. Perform the corresponding transition and update the time variable by an amount $\\Delta t = 1/R$.\n",
    "5. Repeat until the desired simulation time is reached.\n",
    "\n",
    "To be concrete, suppose with have $N$ particles on the interval $[-L, L]$ initially located at $x=0$. Each particle can hop a distance $\\Delta x$ to the left or to the right with equal probability. The rate of hopping is initially considered to be the same for all particles:\n",
    "\n",
    "$$ r_i = \\frac{D}{2}\\,\\frac{1}{(\\Delta x)^2} $$\n",
    "\n",
    "This choice ensures that in the continous limit ($\\Delta x \\to 0$, $N\\to \\infty$), the density of particles $c(x,t)$ on the line will satisfy the usual diffusion equation with diffusion coefficient $D$ (recall MA933):\n",
    "\n",
    "$$ \\frac{\\partial c}{\\partial t} = D \\frac{\\partial^2 c}{\\partial x^2}$$\n",
    "\n",
    "with initial condition $c(x,0) = \\delta(x)$.\n",
    "\n",
    "The steps of the algorithm then correspond to the following:\n",
    "1. There are $M= 2 N$ possible transitions at each step: each of $N$ particles can hop a distance $\\Delta x$ either left or right with the above rates. We index them as follows: events k=1:N correspond to particle k hopping to the right, events k=N+1:2N correspond to particle k-N hopping to the left.\n",
    "2. The total rate is \n",
    "$$ R = \\frac{D N}{(\\Delta x)^2}.$$\n",
    "3. Generate a uniform random number in the range $[0,R]$ and determine the index $k$ of particle to move and the direction.\n",
    "4. Update the position of particle $k$ accordingly.\n",
    "5. Repeat.\n",
    "\n",
    "The following piece of code implements the Gillespie algorithm for N=100, L=10, $\\Delta x = 0.1$ and $D=1$, converts the particle positions to particle density and compares to the solution of the diffusion equation on an unbounded domain at t=1 (we assume that L=10 is far enough from zero to be considered unbounded):\n",
    "\n",
    "$$c(x, t) = \\frac{1}{\\sqrt{2 \\pi D t}}\\, \\exp [-\\frac{1}{2}\\frac{x^2}{D t} ]$$"
   ]
  },
  {
   "cell_type": "code",
   "execution_count": 9,
   "metadata": {},
   "outputs": [
    {
     "data": {
      "text/html": [
       "<script src=\"/home/edoardo/.julia/v0.5/Plots/src/backends/../../deps/plotly-latest.min.js\"></script>    <div id=\"5c945397-cf0a-47dc-a261-a848de063eeb\" style=\"width:600px;height:400px;\"></div>\n",
       "    <script>\n",
       "    PLOT = document.getElementById('5c945397-cf0a-47dc-a261-a848de063eeb');\n",
       "    Plotly.plot(PLOT, [{\"yaxis\":\"y\",\"y\":[0.003674651550184132,0.003926669633936025,0.004193175454323353,0.0044747850269074565,0.0047721247464380615,0.005085830358755514,0.0054165458318520005,0.0057649221240542595,0.006131615847650897,0.006517287826681137,0.006922601548028305,0.007348221505419572,0.007794811436423457,0.008263032453056656,0.008753541067160633,0.00926698711228523,0.009804011564417897,0.01036524426452291,0.01095130154650069,0.011562783774841365,0.012200272796926426,0.012864329315622461,0.013555490188510641,0.014274265660798553,0.01502113653966461,0.015796551318484654,0.016600923260080797,0.017434627448810344,0.018297997821971192,0.01919132419163621,0.020114849268636742,0.02106876570098878,0.022053213139591375,0.023068275344517566,0.024113977345660977,0.025190282671889094,0.026297090663183767,0.02743423388051467,0.028601475628388988,0.029798507605144776,0.03102494769610382,0.03228033792466724,0.03356414257632178,0.034875746510322964,0.036214453673530246,0.03757948583048909,0.03896998152338204,0.04038499527490545,0.041823497046471765,0.04328437196338621,0.044766420317807844,0.04626835785937324,0.04778881638234602,0.049326344617054964,0.050879409432203204,0.052446397353377215,0.05402561640175804,0.055615298255648746,0.05721360073598468,0.05881861061549492,0.06042834674964226,0.06204076352589237,0.06365375462625948,0.06526515709645567,0.06687275571334071,0.06847428764074291,0.0700674473621038,0.07164989187680518,0.07321924614547332,0.07477310876803346,0.0763090578768186,0.07782465722562856,0.07931746245430078,0.08078502750710054,0.08222491118207524,0.08363468378745621,0.08501193388023524,0.08635427506120673,0.08765935280005031,0.08892485126344382,0.09014850011874691,0.09132808128548645,0.09246143560670933,0.09354646941225145,0.0945811609461038,0.09556356663033964,0.09649182713850135,0.09736417325192999,0.09817893147325438,0.09893452937213487,0.09962950063937814,0.10026248982669715,0.10083225675067979,0.10133768054094307,0.10177776331398089,0.10215163345585265,0.10245854849859809,0.10269789757709284,0.10286920345496542,0.10297212411017127,0.10300645387285057,0.10297212411017127,0.10286920345496542,0.10269789757709284,0.10245854849859809,0.10215163345585265,0.10177776331398089,0.10133768054094305,0.10083225675067979,0.10026248982669715,0.09962950063937814,0.09893452937213486,0.09817893147325435,0.09736417325192996,0.09649182713850135,0.09556356663033964,0.09458116094610378,0.09354646941225142,0.0924614356067093,0.09132808128548645,0.09014850011874691,0.0889248512634438,0.0876593528000503,0.0863542750612067,0.08501193388023523,0.08363468378745621,0.08222491118207521,0.08078502750710051,0.07931746245430077,0.07782465722562855,0.0763090578768186,0.07477310876803343,0.07321924614547327,0.07164989187680515,0.07006744736210378,0.06847428764074291,0.06687275571334068,0.06526515709645565,0.06365375462625947,0.06204076352589235,0.06042834674964226,0.058818610615494885,0.05721360073598466,0.05561529825564873,0.05402561640175803,0.052446397353377215,0.05087940943220317,0.04932634461705493,0.047788816382346014,0.04626835785937323,0.044766420317807844,0.043284371963386185,0.04182349704647174,0.04038499527490545,0.038969981523382026,0.03757948583048909,0.03621445367353022,0.03487574651032295,0.03356414257632177,0.03228033792466723,0.03102494769610382,0.02979850760514476,0.028601475628388988,0.027434233880514657,0.026297090663183743,0.025190282671889094,0.024113977345660956,0.023068275344517566,0.022053213139591365,0.021068765700988767,0.020114849268636742,0.019191324191636196,0.018297997821971192,0.017434627448810337,0.01660092326008078,0.015796551318484654,0.015021136539664602,0.014274265660798553,0.013555490188510632,0.012864329315622449,0.012200272796926426,0.011562783774841353,0.01095130154650069,0.01036524426452291,0.009804011564417884,0.00926698711228523,0.008753541067160624,0.008263032453056656,0.007794811436423457,0.0073482215054195615,0.006922601548028305,0.006517287826681128,0.0061316158476508835,0.0057649221240542595,0.005416545831851994,0.005085830358755514,0.004772124746438058,0.004474785026907447,0.004193175454323353,0.00392666963393602,0.003674651550184132],\"showlegend\":true,\"name\":\"Analytic solution of diffusion equation\",\"type\":\"scatter\",\"xaxis\":\"x\",\"line\":{\"width\":1,\"dash\":\"solid\",\"color\":\"rgba(0, 154, 250, 1.000)\",\"shape\":\"linear\"},\"colorbar\":{\"title\":\"\"},\"x\":[-10.0,-9.9,-9.8,-9.7,-9.6,-9.5,-9.4,-9.3,-9.2,-9.1,-9.0,-8.9,-8.8,-8.7,-8.6,-8.5,-8.4,-8.3,-8.2,-8.1,-8.0,-7.9,-7.8,-7.699999999999999,-7.6,-7.5,-7.4,-7.3,-7.199999999999999,-7.1,-7.0,-6.9,-6.8,-6.699999999999999,-6.6,-6.5,-6.4,-6.3,-6.199999999999999,-6.1,-6.0,-5.8999999999999995,-5.8,-5.7,-5.6,-5.5,-5.3999999999999995,-5.3,-5.199999999999999,-5.1,-5.0,-4.8999999999999995,-4.8,-4.699999999999999,-4.6,-4.5,-4.3999999999999995,-4.3,-4.199999999999999,-4.1,-4.0,-3.8999999999999995,-3.8,-3.6999999999999993,-3.5999999999999996,-3.5,-3.3999999999999995,-3.3,-3.1999999999999993,-3.0999999999999996,-3.0,-2.8999999999999995,-2.8,-2.6999999999999993,-2.5999999999999996,-2.5,-2.3999999999999995,-2.3,-2.1999999999999993,-2.0999999999999996,-2.0,-1.9000000000000004,-1.799999999999999,-1.6999999999999993,-1.5999999999999996,-1.5,-1.4000000000000004,-1.299999999999999,-1.1999999999999993,-1.0999999999999996,-1.0,-0.9000000000000004,-0.7999999999999989,-0.6999999999999993,-0.5999999999999996,-0.5,-0.3999999999999986,-0.29999999999999893,-0.1999999999999993,-0.09999999999999964,0.0,0.10000000000000142,0.20000000000000107,0.3000000000000007,0.40000000000000036,0.5,0.6000000000000014,0.7000000000000011,0.8000000000000007,0.9000000000000004,1.0,1.1000000000000014,1.200000000000001,1.3000000000000007,1.4000000000000004,1.5,1.6000000000000014,1.700000000000001,1.8000000000000007,1.9000000000000004,2.0,2.1000000000000014,2.200000000000001,2.3000000000000007,2.4000000000000004,2.5,2.6000000000000014,2.700000000000001,2.8000000000000007,2.9000000000000004,3.0,3.1000000000000014,3.200000000000001,3.3000000000000007,3.4000000000000004,3.5,3.6000000000000014,3.700000000000001,3.8000000000000007,3.9000000000000004,4.0,4.100000000000001,4.200000000000001,4.300000000000001,4.4,4.5,4.600000000000001,4.700000000000001,4.800000000000001,4.9,5.0,5.100000000000001,5.200000000000001,5.300000000000001,5.4,5.5,5.600000000000001,5.700000000000001,5.800000000000001,5.9,6.0,6.100000000000001,6.199999999999999,6.300000000000001,6.400000000000002,6.5,6.600000000000001,6.699999999999999,6.800000000000001,6.900000000000002,7.0,7.100000000000001,7.199999999999999,7.300000000000001,7.400000000000002,7.5,7.600000000000001,7.699999999999999,7.800000000000001,7.900000000000002,8.0,8.100000000000001,8.2,8.3,8.400000000000002,8.5,8.600000000000001,8.7,8.8,8.900000000000002,9.0,9.100000000000001,9.200000000000003,9.3,9.400000000000002,9.5,9.600000000000001,9.700000000000003,9.8,9.900000000000002,10.0],\"mode\":\"lines\"},{\"yaxis\":\"y\",\"y\":[0.0,0.0,0.0,0.0,0.0,0.0,0.0,0.0,0.0,0.0,0.0,0.0,0.0,0.0,0.0,0.1,0.0,0.0,0.0,0.0,0.0,0.0,0.0,0.0,0.0,0.1,0.0,0.0,0.0,0.0,0.0,0.0,0.0,0.1,0.0,0.0,0.0,0.0,0.0,0.0,0.0,0.0,0.0,0.0,0.0,0.0,0.1,0.1,0.0,0.1,0.0,0.1,0.0,0.1,0.2,0.0,0.1,0.1,0.0,0.0,0.0,0.2,0.0,0.0,0.1,0.0,0.0,0.0,0.0,0.1,0.0,0.0,0.2,0.0,0.1,0.2,0.0,0.1,0.1,0.0,0.1,0.1,0.1,0.0,0.4,0.30000000000000004,0.0,0.0,0.1,0.1,0.1,0.2,0.2,0.0,0.30000000000000004,0.0,0.2,0.2,0.0,0.1,0.0,0.0,0.0,0.0,0.30000000000000004,0.2,0.1,0.30000000000000004,0.2,0.0,0.0,0.0,0.1,0.4,0.1,0.2,0.1,0.0,0.4,0.1,0.30000000000000004,0.30000000000000004,0.0,0.0,0.0,0.0,0.0,0.1,0.1,0.0,0.0,0.0,0.0,0.0,0.1,0.2,0.0,0.0,0.0,0.1,0.0,0.0,0.0,0.2,0.1,0.0,0.0,0.1,0.0,0.0,0.0,0.0,0.0,0.1,0.0,0.0,0.1,0.1,0.0,0.1,0.0,0.0,0.1,0.0,0.1,0.1,0.0,0.0,0.2,0.0,0.0,0.0,0.0,0.0,0.1,0.0,0.0,0.0,0.0,0.0,0.0,0.0,0.0,0.0,0.0,0.0,0.0,0.1,0.0,0.0,0.0,0.0,0.0,0.0,0.0,0.0,0.0,0.0,0.0,0.0,0.0],\"showlegend\":true,\"name\":\"Numerical estimate of particle density\",\"type\":\"scatter\",\"xaxis\":\"x\",\"line\":{\"width\":1,\"dash\":\"solid\",\"color\":\"rgba(227, 111, 71, 1.000)\",\"shape\":\"linear\"},\"colorbar\":{\"title\":\"\"},\"x\":[-10.0,-9.9,-9.8,-9.7,-9.6,-9.5,-9.4,-9.3,-9.2,-9.1,-9.0,-8.9,-8.8,-8.7,-8.6,-8.5,-8.4,-8.3,-8.2,-8.1,-8.0,-7.9,-7.8,-7.699999999999999,-7.6,-7.5,-7.4,-7.3,-7.199999999999999,-7.1,-7.0,-6.9,-6.8,-6.699999999999999,-6.6,-6.5,-6.4,-6.3,-6.199999999999999,-6.1,-6.0,-5.8999999999999995,-5.8,-5.7,-5.6,-5.5,-5.3999999999999995,-5.3,-5.199999999999999,-5.1,-5.0,-4.8999999999999995,-4.8,-4.699999999999999,-4.6,-4.5,-4.3999999999999995,-4.3,-4.199999999999999,-4.1,-4.0,-3.8999999999999995,-3.8,-3.6999999999999993,-3.5999999999999996,-3.5,-3.3999999999999995,-3.3,-3.1999999999999993,-3.0999999999999996,-3.0,-2.8999999999999995,-2.8,-2.6999999999999993,-2.5999999999999996,-2.5,-2.3999999999999995,-2.3,-2.1999999999999993,-2.0999999999999996,-2.0,-1.9000000000000004,-1.799999999999999,-1.6999999999999993,-1.5999999999999996,-1.5,-1.4000000000000004,-1.299999999999999,-1.1999999999999993,-1.0999999999999996,-1.0,-0.9000000000000004,-0.7999999999999989,-0.6999999999999993,-0.5999999999999996,-0.5,-0.3999999999999986,-0.29999999999999893,-0.1999999999999993,-0.09999999999999964,0.0,0.10000000000000142,0.20000000000000107,0.3000000000000007,0.40000000000000036,0.5,0.6000000000000014,0.7000000000000011,0.8000000000000007,0.9000000000000004,1.0,1.1000000000000014,1.200000000000001,1.3000000000000007,1.4000000000000004,1.5,1.6000000000000014,1.700000000000001,1.8000000000000007,1.9000000000000004,2.0,2.1000000000000014,2.200000000000001,2.3000000000000007,2.4000000000000004,2.5,2.6000000000000014,2.700000000000001,2.8000000000000007,2.9000000000000004,3.0,3.1000000000000014,3.200000000000001,3.3000000000000007,3.4000000000000004,3.5,3.6000000000000014,3.700000000000001,3.8000000000000007,3.9000000000000004,4.0,4.100000000000001,4.200000000000001,4.300000000000001,4.4,4.5,4.600000000000001,4.700000000000001,4.800000000000001,4.9,5.0,5.100000000000001,5.200000000000001,5.300000000000001,5.4,5.5,5.600000000000001,5.700000000000001,5.800000000000001,5.9,6.0,6.100000000000001,6.199999999999999,6.300000000000001,6.400000000000002,6.5,6.600000000000001,6.699999999999999,6.800000000000001,6.900000000000002,7.0,7.100000000000001,7.199999999999999,7.300000000000001,7.400000000000002,7.5,7.600000000000001,7.699999999999999,7.800000000000001,7.900000000000002,8.0,8.100000000000001,8.2,8.3,8.400000000000002,8.5,8.600000000000001,8.7,8.8,8.900000000000002,9.0,9.100000000000001,9.200000000000003,9.3,9.400000000000002,9.5,9.600000000000001,9.700000000000003,9.8,9.900000000000002,10.0],\"mode\":\"lines\"}], {\"yaxis\":{\"type\":\"-\",\"titlefont\":{\"size\":15,\"color\":\"rgba(0, 0, 0, 1.000)\",\"family\":\"sans-serif\"},\"title\":\"Particle density, c(x,t)\",\"tickfont\":{\"size\":11,\"color\":\"rgba(0, 0, 0, 1.000)\",\"family\":\"sans-serif\"},\"ticks\":\"inside\",\"tickmode\":\"array\",\"showgrid\":true,\"tickvals\":[0.0,0.1,0.2,0.30000000000000004,0.4],\"domain\":[0.07581474190726165,0.9415463692038496],\"ticktext\":[\"0.0\",\"0.1\",\"0.2\",\"0.3\",\"0.4\"],\"tickangle\":0,\"zeroline\":false,\"linecolor\":\"rgba(0, 0, 0, 1.000)\",\"tickcolor\":\"rgba(0, 0, 0, 1.000)\",\"anchor\":\"x\"},\"annotations\":[{\"text\":\"Stochastic simulation of simple diffusion in 1-D\",\"y\":1.0,\"xref\":\"paper\",\"font\":{\"size\":20,\"color\":\"rgba(0, 0, 0, 1.000)\",\"family\":\"sans-serif\"},\"xanchor\":\"center\",\"x\":0.5349537037037038,\"yref\":\"paper\",\"showarrow\":false,\"yanchor\":\"top\",\"rotation\":-0.0}],\"width\":600,\"plot_bgcolor\":\"rgba(255, 255, 255, 1.000)\",\"showlegend\":true,\"legend\":{\"bgcolor\":\"rgba(255, 255, 255, 1.000)\",\"y\":1.0,\"font\":{\"size\":11,\"color\":\"rgba(0, 0, 0, 1.000)\",\"family\":\"sans-serif\"},\"bordercolor\":\"rgba(0, 0, 0, 1.000)\",\"x\":1.0},\"xaxis\":{\"type\":\"-\",\"titlefont\":{\"size\":15,\"color\":\"rgba(0, 0, 0, 1.000)\",\"family\":\"sans-serif\"},\"title\":\"x\",\"tickfont\":{\"size\":11,\"color\":\"rgba(0, 0, 0, 1.000)\",\"family\":\"sans-serif\"},\"ticks\":\"inside\",\"tickmode\":\"array\",\"showgrid\":true,\"tickvals\":[-10.0,-5.0,0.0,5.0,10.0],\"domain\":[0.07646908719743364,0.9934383202099737],\"ticktext\":[\"-10\",\"-5\",\"0\",\"5\",\"10\"],\"tickangle\":0,\"zeroline\":false,\"linecolor\":\"rgba(0, 0, 0, 1.000)\",\"tickcolor\":\"rgba(0, 0, 0, 1.000)\",\"anchor\":\"y\"},\"paper_bgcolor\":\"rgba(255, 255, 255, 1.000)\",\"height\":400,\"margin\":{\"r\":0,\"l\":0,\"b\":20,\"t\":20}});\n",
       "    </script>\n"
      ]
     },
     "execution_count": 9,
     "metadata": {},
     "output_type": "execute_result"
    }
   ],
   "source": [
    "L  = 10.0\n",
    "N  = 100\n",
    "Nx = 201\n",
    "dx = 2.0*L/(Nx-1) \n",
    "X  = dx.*(-(Nx-1)/2:(Nx-1)/2)\n",
    "Y  = zeros(Int64,N)\n",
    "D  = 1.0\n",
    "t  = 0.0\n",
    "\n",
    "\n",
    "r = (D/2.0)/(dx^2)\n",
    "totalRate = 2.0*N*r\n",
    "dt = 1.0/totalRate\n",
    "T=15.0\n",
    "\n",
    "# This is the main loop\n",
    "while t < T\n",
    "    # Pick an event\n",
    "    k = rand(1:2*N)\n",
    "    if k<=N\n",
    "        hop = 1\n",
    "        particleId = k\n",
    "    else\n",
    "        hop = -1\n",
    "        particleId=k-N\n",
    "    end\n",
    "    Y[particleId]+=hop\n",
    "    t+=dt\n",
    "end\n",
    "\n",
    "# Calculate the estimated density of particles\n",
    "P = zeros(Float64,length(X))\n",
    "for i in 1:length(Y)\n",
    "    P[Y[i]+Int64((Nx-1)/2)+1]+=1/(N * dx)\n",
    "end\n",
    "\n",
    "# Calculate the theoretical density and compare\n",
    "function normal(x, D, t)\n",
    "    return (1.0/sqrt(2.0*pi*D*t))*exp(-x*x/(2*D*t))\n",
    "end\n",
    "P1 = normal.(X, D, T)\n",
    "\n",
    "plot(X, P1, label=\"Analytic solution of diffusion equation\")\n",
    "plot!(X, P, label=\"Numerical estimate of particle density\")\n",
    "xlabel!(\"x\")\n",
    "ylabel!(\"Particle density, c(x,t)\")\n",
    "title!(\"Stochastic simulation of simple diffusion in 1-D\")\n"
   ]
  },
  {
   "cell_type": "markdown",
   "metadata": {},
   "source": [
    "**1)** The code above makes critical use of the fact that all intervals have the same width in order to decide which particle to move at each step. Suppose now that instead of being equal to $D$ for each particle, the diffusion coefficients are drawn from an exponential distribution with mean $D$:\n",
    "\n",
    "$$ P(x) = \\frac{1}{D} \\exp\\left(-\\frac{x}{D}\\right). $$\n",
    "\n",
    "Modify the code to account for this, using your code from Q2 above to solve the interval membership problem using linear search. You will need to use Julia's randexp() function to generate values for the diffusion coefficients. What is the largest value of $N$ you can simulate in a \"reasonable\" time?\n",
    "\n",
    "**2)** Try again using your Fenwick tree from Q2 to solve the interval membership problem and compare. What is the largest value of $N$ you can simulate now?\n",
    "\n",
    "**3)** Show analytically that the solution of the heterogenous diffusion problem is\n",
    "\n",
    "$$ c(x,t) = \\frac{\\exp \\left(-\\sqrt{\\frac{2}{D\\,t}}\\, |x| \\right)}{\\sqrt{2\\, D\\, t}}$$\n",
    "\n",
    "You will probably need the integral formula (Formula 3.325 of Gradshteyn and Rizhik, 7th Ed.)\n",
    "\n",
    "$$ \\int_0^\\infty \\exp\\left(-a\\,x^2 - \\frac{b}{x^2} \\right)\\, dx =  \\frac{1}{2}\\,\\sqrt{\\frac{\\pi}{a}}\\,\\exp\\left(-2 \\sqrt{a\\,b} \\right).$$\n",
    "Use this formula to validate your numerical results.\n",
    "\n"
   ]
  },
  {
   "cell_type": "markdown",
   "metadata": {},
   "source": [
    "## Using Linear (Brute) Search"
   ]
  },
  {
   "cell_type": "code",
   "execution_count": 30,
   "metadata": {},
   "outputs": [
    {
     "ename": "LoadError",
     "evalue": "DimensionMismatch(\"arrays could not be broadcast to a common size\")",
     "output_type": "error",
     "traceback": [
      "DimensionMismatch(\"arrays could not be broadcast to a common size\")",
      "",
      " in _bcs1(::Base.OneTo{Int64}, ::Base.OneTo{Int64}) at ./broadcast.jl:47",
      " in _bcs at ./broadcast.jl:40 [inlined]",
      " in broadcast_shape at ./broadcast.jl:34 [inlined] (repeats 2 times)",
      " in broadcast_shape(::Array{Int64,1}, ::Array{Float64,1}) at ./broadcast.jl:31",
      " in broadcast_t(::Type{T}, ::Type{Any}, ::Array{Int64,1}, ::Vararg{Any,N}) at ./broadcast.jl:213",
      " in broadcast(::Type{T}, ::Array{Int64,1}, ::Array{Float64,1}) at ./broadcast.jl:230",
      " in include_string(::String, ::String) at ./loading.jl:441"
     ]
    }
   ],
   "source": [
    "L  = 10.0\n",
    "N  = 100\n",
    "Nx = 201\n",
    "dx = 2.0*L/(Nx-1) \n",
    "X  = dx.*(-(Nx-1)/2:(Nx-1)/2)\n",
    "Y  = zeros(Int64,N)\n",
    "D  = 1.0\n",
    "t  = 0.0\n",
    "\n",
    "Drates = randexp(rng, N)\n",
    "Drates = [Drates;Drates]\n",
    "rates = Drates/2 * 1/(dx^2)\n",
    "\n",
    "rate_intervals = buildLList( KVPair.( collect(1:2*N), σ ) )\n",
    "\n",
    "Σ = sum(rates)\n",
    "totalRate = Σ\n",
    "dt = 1.0/totalRate\n",
    "T=10.0\n",
    "\n",
    "# This is the main loop\n",
    "while t < T\n",
    "    # Pick an event\n",
    "    rate_selected = rand()*Σ\n",
    "    k = intervalmembership_brute(rate_intervals,rate_selected).key\n",
    "    if k<=N\n",
    "        hop = 1\n",
    "        particleId = k\n",
    "    else\n",
    "        hop = -1\n",
    "        particleId=k-N\n",
    "    end\n",
    "    Y[particleId]+=hop\n",
    "    t+=dt\n",
    "end\n",
    "\n",
    "# Calculate the estimated density of particles\n",
    "P = zeros(Float64,length(X))\n",
    "for i in 1:length(Y)\n",
    "    P[Y[i]+int64((Nx-1)/2)+1]+=1/(N * dx)\n",
    "end\n",
    "\n",
    "# Calculate the theoretical density and compare\n",
    "function normal(x, D, t)\n",
    "    return (1.0/sqrt(2.0*pi*D*t))*exp(-x*x/(2*D*t))\n",
    "end\n",
    "P1 = normal.(X, D, T)\n",
    "\n",
    "plot(X, P1, label=\"Analytic solution of diffusion equation\")\n",
    "plot!(X, P, label=\"Numerical estimate of particle density\")\n",
    "xlabel!(\"x\")\n",
    "ylabel!(\"Particle density, c(x,t)\")\n",
    "title!(\"Stochastic simulation of simple diffusion in 1-D\")\n"
   ]
  },
  {
   "cell_type": "markdown",
   "metadata": {},
   "source": [
    "## Using Tree Search"
   ]
  },
  {
   "cell_type": "code",
   "execution_count": 68,
   "metadata": {},
   "outputs": [
    {
     "name": "stderr",
     "output_type": "stream",
     "text": [
      "WARNING: Method definition normal(Any, Any, Any) in module Main at In[67]:57 overwritten at In[68]:57.\n"
     ]
    },
    {
     "data": {
      "text/html": [
       "<script src=\"/home/edoardo/.julia/v0.5/Plots/src/backends/../../deps/plotly-latest.min.js\"></script>    <div id=\"9e3ed845-a854-415b-8211-db1d4478aada\" style=\"width:600px;height:400px;\"></div>\n",
       "    <script>\n",
       "    PLOT = document.getElementById('9e3ed845-a854-415b-8211-db1d4478aada');\n",
       "    Plotly.plot(PLOT, [{\"yaxis\":\"y\",\"y\":[5.100744130089227e-7,5.875597712685668e-7,6.768159233408394e-7,7.796309694564346e-7,8.980646399914607e-7,1.0344895587784369e-6,1.1916387747231408e-6,1.3726605139451215e-6,1.5811812493109387e-6,1.821378350854523e-6,2.098063772516428e-6,2.4167804517280403e-6,2.7839133530480215e-6,3.206817380427577e-6,3.6939647206164253e-6,4.2551145694923844e-6,4.901508641502387e-6,5.646096378925144e-6,6.503794372652674e-6,7.491785191559396e-6,8.629861607013942e-6,9.940823108505543e-6,1.1450932653923633e-5,1.3190442804731419e-5,1.5194201786286294e-5,1.7502351614729316e-5,2.01611322762675e-5,2.322380806925878e-5,2.6751734666839905e-5,3.0815588276942034e-5,3.549678152389437e-5,4.088909441647454e-5,4.7100553076169206e-5,5.4255593862876086e-5,6.249755625274637e-5,7.199155440887727e-5,8.292778497204991e-5,9.552533733766077e-5,0.00011003658275147949,0.00012675223015255044,0.0001460071500487332,0.00016818708309665492,0.00019373636778143854,0.0002231668420075675,0.0002570680969296161,0.00029611928844148637,0.00034110274294791405,0.0003929196299875,0.00045260801568250235,0.0005213636586865592,0.000600563965242968,0.0006917955832537114,0.0007968861881610305,0.0009179410974194174,0.0010573854470687506,0.0012180127753468747,0.001403040986634404,0.001616176816877332,0.0018616900919462417,0.0021444992665761425,0.002470269957519015,0.0028455284448586846,0.0032777924153002415,0.0037757215666608347,0.004349291090675093,0.005009991509557981,0.005771058869721934,0.006647739904200876,0.007657597475874308,0.008820862420544027,0.010160838838461172,0.01170437095365258,0.013482380893805523,0.01553048816424655,0.017889723226156538,0.020607349474388612,0.023737810081862317,0.027343818679004633,0.03149761571820718,0.036282415692494824,0.04179407420105271,0.04814300825852733,0.055456408318341366,0.0638807863242709,0.07358491083631014,0.08476318803124111,0.09763955631069728,0.11247197253878764,0.1295575797836748,0.149238660090314,0.17190949153836188,0.19802424695513712,0.2281060925213583,0.26275766854525856,0.3026731623701606,0.34865221527635115,0.40161594197917355,0.4626253836476313,0.5329027641193997,0.6138559751455407,0.7071067811865475,0.6138559751455391,0.5329027641193984,0.4626253836476301,0.4016159419791725,0.34865221527635115,0.30267316237015984,0.2627576685452579,0.22810609252135775,0.19802424695513712,0.17190949153836188,0.14923866009031364,0.1295575797836745,0.11247197253878737,0.09763955631069728,0.08476318803124111,0.07358491083630994,0.06388078632427074,0.05545640831834123,0.04814300825852733,0.04179407420105271,0.03628241569249474,0.0314976157182071,0.027343818679004595,0.023737810081862282,0.020607349474388612,0.017889723226156496,0.015530488164246513,0.013482380893805511,0.011704370953652565,0.010160838838461172,0.008820862420544012,0.007657597475874287,0.006647739904200864,0.005771058869721924,0.005009991509557981,0.004349291090675081,0.0037757215666608247,0.0032777924153002385,0.0028455284448586824,0.002470269957519015,0.002144499266576137,0.0018616900919462384,0.0016161768168773305,0.0014030409866344017,0.0012180127753468747,0.0010573854470687478,0.000917941097419415,0.0007968861881610291,0.0006917955832537108,0.000600563965242968,0.0005213636586865578,0.0004526080156825011,0.0003929196299874996,0.0003411027429479137,0.00029611928844148637,0.00025706809692961565,0.00022316684200756712,0.0001937363677814382,0.00016818708309665462,0.0001460071500487332,0.0001267522301525502,0.00011003658275147949,9.552533733766059e-5,8.292778497204976e-5,7.199155440887727e-5,6.249755625274617e-5,5.4255593862876086e-5,4.710055307616913e-5,4.0889094416474396e-5,3.549678152389437e-5,3.0815588276941926e-5,2.6751734666839905e-5,2.322380806925878e-5,2.016113227626743e-5,1.7502351614729316e-5,1.5194201786286267e-5,1.3190442804731419e-5,1.1450932653923633e-5,9.94082310850551e-6,8.629861607013942e-6,7.4917851915593816e-6,6.503794372652674e-6,5.646096378925144e-6,4.901508641502378e-6,4.2551145694923844e-6,3.6939647206164185e-6,3.206817380427577e-6,2.7839133530480215e-6,2.416780451728036e-6,2.098063772516428e-6,1.8213783508545195e-6,1.5811812493109302e-6,1.3726605139451215e-6,1.1916387747231387e-6,1.0344895587784369e-6,8.980646399914574e-7,7.796309694564304e-7,6.768159233408394e-7,5.875597712685647e-7,5.100744130089227e-7],\"showlegend\":true,\"name\":\"Analytical solution of diffusion equation\",\"type\":\"scatter\",\"xaxis\":\"x\",\"line\":{\"width\":1,\"dash\":\"solid\",\"color\":\"rgba(0, 154, 250, 1.000)\",\"shape\":\"linear\"},\"colorbar\":{\"title\":\"\"},\"x\":[-10.0,-9.9,-9.8,-9.7,-9.6,-9.5,-9.4,-9.3,-9.2,-9.1,-9.0,-8.9,-8.8,-8.7,-8.6,-8.5,-8.4,-8.3,-8.2,-8.1,-8.0,-7.9,-7.8,-7.699999999999999,-7.6,-7.5,-7.4,-7.3,-7.199999999999999,-7.1,-7.0,-6.9,-6.8,-6.699999999999999,-6.6,-6.5,-6.4,-6.3,-6.199999999999999,-6.1,-6.0,-5.8999999999999995,-5.8,-5.7,-5.6,-5.5,-5.3999999999999995,-5.3,-5.199999999999999,-5.1,-5.0,-4.8999999999999995,-4.8,-4.699999999999999,-4.6,-4.5,-4.3999999999999995,-4.3,-4.199999999999999,-4.1,-4.0,-3.8999999999999995,-3.8,-3.6999999999999993,-3.5999999999999996,-3.5,-3.3999999999999995,-3.3,-3.1999999999999993,-3.0999999999999996,-3.0,-2.8999999999999995,-2.8,-2.6999999999999993,-2.5999999999999996,-2.5,-2.3999999999999995,-2.3,-2.1999999999999993,-2.0999999999999996,-2.0,-1.9000000000000004,-1.799999999999999,-1.6999999999999993,-1.5999999999999996,-1.5,-1.4000000000000004,-1.299999999999999,-1.1999999999999993,-1.0999999999999996,-1.0,-0.9000000000000004,-0.7999999999999989,-0.6999999999999993,-0.5999999999999996,-0.5,-0.3999999999999986,-0.29999999999999893,-0.1999999999999993,-0.09999999999999964,0.0,0.10000000000000142,0.20000000000000107,0.3000000000000007,0.40000000000000036,0.5,0.6000000000000014,0.7000000000000011,0.8000000000000007,0.9000000000000004,1.0,1.1000000000000014,1.200000000000001,1.3000000000000007,1.4000000000000004,1.5,1.6000000000000014,1.700000000000001,1.8000000000000007,1.9000000000000004,2.0,2.1000000000000014,2.200000000000001,2.3000000000000007,2.4000000000000004,2.5,2.6000000000000014,2.700000000000001,2.8000000000000007,2.9000000000000004,3.0,3.1000000000000014,3.200000000000001,3.3000000000000007,3.4000000000000004,3.5,3.6000000000000014,3.700000000000001,3.8000000000000007,3.9000000000000004,4.0,4.100000000000001,4.200000000000001,4.300000000000001,4.4,4.5,4.600000000000001,4.700000000000001,4.800000000000001,4.9,5.0,5.100000000000001,5.200000000000001,5.300000000000001,5.4,5.5,5.600000000000001,5.700000000000001,5.800000000000001,5.9,6.0,6.100000000000001,6.199999999999999,6.300000000000001,6.400000000000002,6.5,6.600000000000001,6.699999999999999,6.800000000000001,6.900000000000002,7.0,7.100000000000001,7.199999999999999,7.300000000000001,7.400000000000002,7.5,7.600000000000001,7.699999999999999,7.800000000000001,7.900000000000002,8.0,8.100000000000001,8.2,8.3,8.400000000000002,8.5,8.600000000000001,8.7,8.8,8.900000000000002,9.0,9.100000000000001,9.200000000000003,9.3,9.400000000000002,9.5,9.600000000000001,9.700000000000003,9.8,9.900000000000002,10.0],\"mode\":\"lines\"},{\"yaxis\":\"y\",\"y\":[0.0,0.0,0.0,0.0,0.0,0.0,0.0,0.0,0.0,0.0,0.0,0.0,0.0,0.0,0.0,0.0,0.0,0.0,0.0,0.0,0.0,0.0,0.0,0.0,0.0,0.0,0.0,0.0,0.0,0.0,0.0,0.0,0.0,0.0,0.0,0.0,0.0,0.0,0.0,0.0,0.0,0.0,0.0,0.0,0.0,0.0,0.0,0.0,0.0,0.0,0.0,0.0,0.0,0.0,0.0,0.0,0.0,0.0,0.0,0.02,0.0,0.0,0.0,0.0,0.0,0.0,0.01,0.0,0.0,0.01,0.01,0.01,0.0,0.02,0.01,0.03,0.03,0.01,0.02,0.05,0.02,0.04,0.11999999999999998,0.060000000000000005,0.08,0.07,0.05,0.09,0.09999999999999999,0.17,0.19000000000000003,0.20000000000000004,0.2800000000000001,0.24000000000000007,0.3000000000000001,0.3000000000000001,0.47000000000000025,0.5000000000000002,0.5100000000000002,0.7200000000000004,0.6100000000000003,0.4300000000000002,0.6300000000000003,0.5400000000000003,0.4100000000000002,0.4000000000000002,0.20000000000000004,0.2900000000000001,0.21000000000000005,0.23000000000000007,0.13999999999999999,0.13999999999999999,0.10999999999999999,0.11999999999999998,0.16,0.09,0.09999999999999999,0.03,0.060000000000000005,0.05,0.02,0.05,0.0,0.03,0.03,0.03,0.03,0.02,0.0,0.02,0.0,0.0,0.01,0.0,0.0,0.01,0.01,0.0,0.01,0.01,0.0,0.02,0.0,0.0,0.01,0.0,0.0,0.0,0.0,0.0,0.0,0.0,0.0,0.0,0.0,0.0,0.0,0.0,0.0,0.0,0.0,0.0,0.0,0.0,0.0,0.0,0.0,0.0,0.0,0.0,0.0,0.0,0.0,0.0,0.0,0.0,0.0,0.0,0.0,0.0,0.0,0.0,0.0,0.0,0.0,0.0,0.0,0.0,0.0,0.0,0.0,0.0,0.0,0.0,0.0,0.0,0.0,0.0,0.0,0.0,0.0],\"showlegend\":true,\"name\":\"Numerical estimate of particle density\",\"type\":\"scatter\",\"xaxis\":\"x\",\"line\":{\"width\":1,\"dash\":\"solid\",\"color\":\"rgba(227, 111, 71, 1.000)\",\"shape\":\"linear\"},\"colorbar\":{\"title\":\"\"},\"x\":[-10.0,-9.9,-9.8,-9.7,-9.6,-9.5,-9.4,-9.3,-9.2,-9.1,-9.0,-8.9,-8.8,-8.7,-8.6,-8.5,-8.4,-8.3,-8.2,-8.1,-8.0,-7.9,-7.8,-7.699999999999999,-7.6,-7.5,-7.4,-7.3,-7.199999999999999,-7.1,-7.0,-6.9,-6.8,-6.699999999999999,-6.6,-6.5,-6.4,-6.3,-6.199999999999999,-6.1,-6.0,-5.8999999999999995,-5.8,-5.7,-5.6,-5.5,-5.3999999999999995,-5.3,-5.199999999999999,-5.1,-5.0,-4.8999999999999995,-4.8,-4.699999999999999,-4.6,-4.5,-4.3999999999999995,-4.3,-4.199999999999999,-4.1,-4.0,-3.8999999999999995,-3.8,-3.6999999999999993,-3.5999999999999996,-3.5,-3.3999999999999995,-3.3,-3.1999999999999993,-3.0999999999999996,-3.0,-2.8999999999999995,-2.8,-2.6999999999999993,-2.5999999999999996,-2.5,-2.3999999999999995,-2.3,-2.1999999999999993,-2.0999999999999996,-2.0,-1.9000000000000004,-1.799999999999999,-1.6999999999999993,-1.5999999999999996,-1.5,-1.4000000000000004,-1.299999999999999,-1.1999999999999993,-1.0999999999999996,-1.0,-0.9000000000000004,-0.7999999999999989,-0.6999999999999993,-0.5999999999999996,-0.5,-0.3999999999999986,-0.29999999999999893,-0.1999999999999993,-0.09999999999999964,0.0,0.10000000000000142,0.20000000000000107,0.3000000000000007,0.40000000000000036,0.5,0.6000000000000014,0.7000000000000011,0.8000000000000007,0.9000000000000004,1.0,1.1000000000000014,1.200000000000001,1.3000000000000007,1.4000000000000004,1.5,1.6000000000000014,1.700000000000001,1.8000000000000007,1.9000000000000004,2.0,2.1000000000000014,2.200000000000001,2.3000000000000007,2.4000000000000004,2.5,2.6000000000000014,2.700000000000001,2.8000000000000007,2.9000000000000004,3.0,3.1000000000000014,3.200000000000001,3.3000000000000007,3.4000000000000004,3.5,3.6000000000000014,3.700000000000001,3.8000000000000007,3.9000000000000004,4.0,4.100000000000001,4.200000000000001,4.300000000000001,4.4,4.5,4.600000000000001,4.700000000000001,4.800000000000001,4.9,5.0,5.100000000000001,5.200000000000001,5.300000000000001,5.4,5.5,5.600000000000001,5.700000000000001,5.800000000000001,5.9,6.0,6.100000000000001,6.199999999999999,6.300000000000001,6.400000000000002,6.5,6.600000000000001,6.699999999999999,6.800000000000001,6.900000000000002,7.0,7.100000000000001,7.199999999999999,7.300000000000001,7.400000000000002,7.5,7.600000000000001,7.699999999999999,7.800000000000001,7.900000000000002,8.0,8.100000000000001,8.2,8.3,8.400000000000002,8.5,8.600000000000001,8.7,8.8,8.900000000000002,9.0,9.100000000000001,9.200000000000003,9.3,9.400000000000002,9.5,9.600000000000001,9.700000000000003,9.8,9.900000000000002,10.0],\"mode\":\"lines\"}], {\"yaxis\":{\"type\":\"-\",\"titlefont\":{\"size\":15,\"color\":\"rgba(0, 0, 0, 1.000)\",\"family\":\"sans-serif\"},\"title\":\"Particle density, c(x,t)\",\"tickfont\":{\"size\":11,\"color\":\"rgba(0, 0, 0, 1.000)\",\"family\":\"sans-serif\"},\"ticks\":\"inside\",\"tickmode\":\"array\",\"showgrid\":true,\"tickvals\":[0.0,0.1,0.2,0.30000000000000004,0.4,0.5,0.6000000000000001,0.7000000000000001],\"domain\":[0.07581474190726165,0.9415463692038496],\"ticktext\":[\"0.0\",\"0.1\",\"0.2\",\"0.3\",\"0.4\",\"0.5\",\"0.6\",\"0.7\"],\"tickangle\":0,\"zeroline\":false,\"linecolor\":\"rgba(0, 0, 0, 1.000)\",\"tickcolor\":\"rgba(0, 0, 0, 1.000)\",\"anchor\":\"x\"},\"annotations\":[{\"text\":\"Stochastic simulation of simple diffusion in 1-D\",\"y\":1.0,\"xref\":\"paper\",\"font\":{\"size\":20,\"color\":\"rgba(0, 0, 0, 1.000)\",\"family\":\"sans-serif\"},\"xanchor\":\"center\",\"x\":0.5349537037037038,\"yref\":\"paper\",\"showarrow\":false,\"yanchor\":\"top\",\"rotation\":-0.0}],\"width\":600,\"plot_bgcolor\":\"rgba(255, 255, 255, 1.000)\",\"showlegend\":true,\"legend\":{\"bgcolor\":\"rgba(255, 255, 255, 1.000)\",\"y\":1.0,\"font\":{\"size\":11,\"color\":\"rgba(0, 0, 0, 1.000)\",\"family\":\"sans-serif\"},\"bordercolor\":\"rgba(0, 0, 0, 1.000)\",\"x\":1.0},\"xaxis\":{\"type\":\"-\",\"titlefont\":{\"size\":15,\"color\":\"rgba(0, 0, 0, 1.000)\",\"family\":\"sans-serif\"},\"title\":\"x\",\"tickfont\":{\"size\":11,\"color\":\"rgba(0, 0, 0, 1.000)\",\"family\":\"sans-serif\"},\"ticks\":\"inside\",\"tickmode\":\"array\",\"showgrid\":true,\"tickvals\":[-10.0,-5.0,0.0,5.0,10.0],\"domain\":[0.07646908719743364,0.9934383202099737],\"ticktext\":[\"-10\",\"-5\",\"0\",\"5\",\"10\"],\"tickangle\":0,\"zeroline\":false,\"linecolor\":\"rgba(0, 0, 0, 1.000)\",\"tickcolor\":\"rgba(0, 0, 0, 1.000)\",\"anchor\":\"y\"},\"paper_bgcolor\":\"rgba(255, 255, 255, 1.000)\",\"height\":400,\"margin\":{\"r\":0,\"l\":0,\"b\":20,\"t\":20}});\n",
       "    </script>\n"
      ]
     },
     "execution_count": 68,
     "metadata": {},
     "output_type": "execute_result"
    }
   ],
   "source": [
    "L  = 10.0\n",
    "N  = 1000\n",
    "Nx = 201\n",
    "dx = 2.0*L/(Nx-1) \n",
    "X  = dx.*(-(Nx-1)/2:(Nx-1)/2)\n",
    "Y  = zeros(Int64,N)\n",
    "D  = 1.0\n",
    "t  = 0.0\n",
    "\n",
    "# Generates rates related variables\n",
    "Drates = randexp(N)\n",
    "Drates = [Drates;Drates]\n",
    "rates = ( Drates/2 ) * ( 1/(dx^2) )\n",
    "# σ = cumsum(rates)\n",
    "# Σ = σ[end]\n",
    "Σ = sum(rates)\n",
    "\n",
    "rates_pairs = KVPair.( collect( [1:N;N+1:2*N] ), rates )\n",
    "rate_tree = Nullable{FTree}(FTree(KVPair(0,0.0)))\n",
    "rate_tree = buildFTree(rate_tree, rates_pairs);\n",
    "\n",
    "\n",
    "totalRate = Σ\n",
    "dt = 1.0/totalRate\n",
    "T=1.0\n",
    "\n",
    "# This is the main loop\n",
    "while t < T\n",
    "    # Pick an event\n",
    "    rate_selected = Float64(rand(Uniform(0, Σ)))\n",
    "    k = intervalmembership(rate_tree, rate_selected)\n",
    "    k = k.key\n",
    "    if k<=N\n",
    "        hop = 1\n",
    "        particleId = k\n",
    "    else\n",
    "        hop = -1\n",
    "        particleId=k-N\n",
    "    end\n",
    "    Y[particleId]+=hop\n",
    "    t+=dt\n",
    "end\n",
    "\n",
    "## BIG BUG\n",
    "# Assumes the distance of the particles does not exceed a given number (believe it is 201)\n",
    "# this will be correct for small T, but will fail for higher T\n",
    "\n",
    "# Calculate the estimated density of particles\n",
    "P = zeros(Float64,length(X))\n",
    "for i in 1:length(Y)\n",
    "    P[Y[i]+Int64((Nx-1)/2)+1]+=1/(N * dx)\n",
    "end\n",
    "\n",
    "# # Calculate the theoretical density and compare\n",
    "function normal(x, D, t)\n",
    "#     return (1.0/sqrt(2.0*pi*D*t))*exp(-x*x/(2*D*t))\n",
    "    return exp( -sqrt(2 / (D*t) ) * abs(x) ) / sqrt( 2*D*t )\n",
    "end\n",
    "\n",
    "P1 = normal.(X, D, T)\n",
    "\n",
    "Plots.plot(X, P1, label=\"Analytical solution of diffusion equation\")\n",
    "plot!(X, P, label=\"Numerical estimate of particle density\")\n",
    "xlabel!(\"x\")\n",
    "ylabel!(\"Particle density, c(x,t)\")\n",
    "title!(\"Stochastic simulation of simple diffusion in 1-D\")\n"
   ]
  },
  {
   "cell_type": "markdown",
   "metadata": {},
   "source": [
    "$$ c(x,t) = \\frac{\\exp \\left(-\\sqrt{\\frac{2}{D\\,t}}\\, |x| \\right)}{\\sqrt{2\\, D\\, t}}$$\n"
   ]
  }
 ],
 "metadata": {
  "kernelspec": {
   "display_name": "Julia 0.5.2",
   "language": "julia",
   "name": "julia-0.5"
  },
  "language_info": {
   "file_extension": ".jl",
   "mimetype": "application/julia",
   "name": "julia",
   "version": "0.5.2"
  }
 },
 "nbformat": 4,
 "nbformat_minor": 1
}
